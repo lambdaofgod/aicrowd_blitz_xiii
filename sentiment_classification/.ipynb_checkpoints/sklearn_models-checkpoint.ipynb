{
 "cells": [
  {
   "cell_type": "markdown",
   "id": "c06e6923",
   "metadata": {},
   "source": [
    "# Sentiment classification: sklearn models"
   ]
  },
  {
   "cell_type": "code",
   "execution_count": 125,
   "id": "ad9a732b",
   "metadata": {},
   "outputs": [
    {
     "name": "stdout",
     "output_type": "stream",
     "text": [
      "The aicrowd.magic extension is already loaded. To reload it, use:\n",
      "  %reload_ext aicrowd.magic\n"
     ]
    }
   ],
   "source": [
    "%load_ext aicrowd.magic"
   ]
  },
  {
   "cell_type": "code",
   "execution_count": 126,
   "id": "d0030bb6",
   "metadata": {},
   "outputs": [
    {
     "name": "stdout",
     "output_type": "stream",
     "text": [
      "Please login here: \u001b[34m\u001b[1m\u001b[4mhttps://api.aicrowd.com/auth/4K4R3TM3Wilf3Wb0YYutWzKRpuB4g9ikjR0pSKwpG34\u001b[0m\n",
      "\u001b[32mAPI Key valid\u001b[0m\n",
      "\u001b[32mGitlab access token valid\u001b[0m\n",
      "\u001b[32mSaved details successfully!\u001b[0m\n"
     ]
    }
   ],
   "source": [
    "%aicrowd login"
   ]
  },
  {
   "cell_type": "code",
   "execution_count": 127,
   "id": "9e11f58a",
   "metadata": {},
   "outputs": [],
   "source": [
    "# %aicrowd ds dl -c sentiment-classification -o data"
   ]
  },
  {
   "cell_type": "markdown",
   "id": "df5880c3",
   "metadata": {},
   "source": [
    "## Imports"
   ]
  },
  {
   "cell_type": "code",
   "execution_count": 128,
   "id": "7bd4f984",
   "metadata": {},
   "outputs": [],
   "source": [
    "import os\n",
    "\n",
    "from ast import literal_eval\n",
    "from collections import Counter\n",
    "import pandas as pd\n",
    "import neptune.new as neptune\n",
    "import numpy as np\n",
    "from scipy.stats import uniform\n",
    "import optuna\n",
    "from tqdm import tqdm\n",
    "\n",
    "from sklearn.decomposition import PCA\n",
    "from sklearn.ensemble import RandomForestClassifier, AdaBoostClassifier\n",
    "from sklearn.metrics import classification_report, confusion_matrix, f1_score, accuracy_score\n",
    "from sklearn.model_selection import StratifiedKFold, RandomizedSearchCV\n",
    "from sklearn.naive_bayes import GaussianNB\n",
    "from sklearn.neighbors import KNeighborsClassifier\n",
    "from sklearn.neural_network import MLPClassifier\n",
    "from sklearn.preprocessing import StandardScaler\n",
    "from sklearn.svm import SVC"
   ]
  },
  {
   "cell_type": "code",
   "execution_count": 129,
   "id": "e9c45f12",
   "metadata": {},
   "outputs": [],
   "source": [
    "NEPTUNE_PROJECT = \"deepsense-ai/AIcrowd\"\n",
    "NEPTUNE_API = \"eyJhcGlfYWRkcmVzcyI6Imh0dHBzOi8vYXBwLm5lcHR1bmUuYWkiLCJhcGlfdXJsIjoiaHR0cHM6Ly9hcHAubmVwdHVuZS5haSIsImFwaV9rZXkiOiI0NWE5MTZhNi0yMDE3LTQ3N2EtOGMwOS1lZGY1YjRiOWJlYmUifQ==\""
   ]
  },
  {
   "cell_type": "markdown",
   "id": "65f227f3",
   "metadata": {},
   "source": [
    "## Data"
   ]
  },
  {
   "cell_type": "code",
   "execution_count": 130,
   "id": "8d3891fa",
   "metadata": {},
   "outputs": [],
   "source": [
    "train_df = pd.read_csv(\"data/train.csv\")\n",
    "val_df = pd.read_csv(\"data/val.csv\")\n",
    "test_df = pd.read_csv(\"data/test.csv\")"
   ]
  },
  {
   "cell_type": "code",
   "execution_count": 131,
   "id": "9c08bf28",
   "metadata": {},
   "outputs": [
    {
     "data": {
      "text/html": [
       "<div>\n",
       "<style scoped>\n",
       "    .dataframe tbody tr th:only-of-type {\n",
       "        vertical-align: middle;\n",
       "    }\n",
       "\n",
       "    .dataframe tbody tr th {\n",
       "        vertical-align: top;\n",
       "    }\n",
       "\n",
       "    .dataframe thead th {\n",
       "        text-align: right;\n",
       "    }\n",
       "</style>\n",
       "<table border=\"1\" class=\"dataframe\">\n",
       "  <thead>\n",
       "    <tr style=\"text-align: right;\">\n",
       "      <th></th>\n",
       "      <th>embeddings</th>\n",
       "      <th>label</th>\n",
       "    </tr>\n",
       "  </thead>\n",
       "  <tbody>\n",
       "    <tr>\n",
       "      <th>0</th>\n",
       "      <td>[0.3206779360771179, 0.988215982913971, 1.0441...</td>\n",
       "      <td>positive</td>\n",
       "    </tr>\n",
       "    <tr>\n",
       "      <th>1</th>\n",
       "      <td>[0.05074610561132431, 1.0742985010147095, 0.60...</td>\n",
       "      <td>negative</td>\n",
       "    </tr>\n",
       "    <tr>\n",
       "      <th>2</th>\n",
       "      <td>[0.41962647438049316, 0.4505457878112793, 1.39...</td>\n",
       "      <td>negative</td>\n",
       "    </tr>\n",
       "    <tr>\n",
       "      <th>3</th>\n",
       "      <td>[0.4361684024333954, 0.19191382825374603, 0.83...</td>\n",
       "      <td>positive</td>\n",
       "    </tr>\n",
       "    <tr>\n",
       "      <th>4</th>\n",
       "      <td>[0.6382085084915161, 0.8352395296096802, 0.393...</td>\n",
       "      <td>neutral</td>\n",
       "    </tr>\n",
       "  </tbody>\n",
       "</table>\n",
       "</div>"
      ],
      "text/plain": [
       "                                          embeddings     label\n",
       "0  [0.3206779360771179, 0.988215982913971, 1.0441...  positive\n",
       "1  [0.05074610561132431, 1.0742985010147095, 0.60...  negative\n",
       "2  [0.41962647438049316, 0.4505457878112793, 1.39...  negative\n",
       "3  [0.4361684024333954, 0.19191382825374603, 0.83...  positive\n",
       "4  [0.6382085084915161, 0.8352395296096802, 0.393...   neutral"
      ]
     },
     "execution_count": 131,
     "metadata": {},
     "output_type": "execute_result"
    }
   ],
   "source": [
    "train_df.head()"
   ]
  },
  {
   "cell_type": "code",
   "execution_count": 132,
   "id": "98e2c2db",
   "metadata": {},
   "outputs": [
    {
     "data": {
      "text/plain": [
       "neutral     1694\n",
       "positive    1684\n",
       "negative    1622\n",
       "Name: label, dtype: int64"
      ]
     },
     "execution_count": 132,
     "metadata": {},
     "output_type": "execute_result"
    }
   ],
   "source": [
    "train_df.label.value_counts()"
   ]
  },
  {
   "cell_type": "code",
   "execution_count": 133,
   "id": "a38301b9",
   "metadata": {},
   "outputs": [],
   "source": [
    "X_train = [literal_eval(embedding)  for embedding in train_df['embeddings'].values]\n",
    "y_train = train_df['label'].values\n",
    "\n",
    "X_valid = [literal_eval(embedding)  for embedding in val_df['embeddings'].values]\n",
    "y_valid = val_df['label'].values\n",
    "\n",
    "X_test = [literal_eval(embedding)  for embedding in test_df['embeddings'].values]"
   ]
  },
  {
   "cell_type": "markdown",
   "id": "57b8d513",
   "metadata": {},
   "source": [
    "## Standard Scaler"
   ]
  },
  {
   "cell_type": "code",
   "execution_count": 134,
   "id": "1cff0e0e",
   "metadata": {},
   "outputs": [],
   "source": [
    "scaler = StandardScaler()\n",
    "scaler.fit(X_train)\n",
    "\n",
    "X_train_scaled = scaler.transform(X_train)\n",
    "X_valid_scaled = scaler.transform(X_valid)\n",
    "X_test_scaled = scaler.transform(X_test)"
   ]
  },
  {
   "cell_type": "markdown",
   "id": "14ae6994",
   "metadata": {},
   "source": [
    "## Submission"
   ]
  },
  {
   "cell_type": "code",
   "execution_count": 135,
   "id": "a0d5bb77",
   "metadata": {},
   "outputs": [],
   "source": [
    "def make_submission(y_test_pred):\n",
    "    submission = pd.DataFrame(\n",
    "        {\n",
    "            \"embeddings\": X_test,\n",
    "            \"label\": y_test_pred,\n",
    "        }\n",
    "    )\n",
    "    submission.to_csv(os.path.join(\"assets\", \"submission.csv\"))\n",
    "    %aicrowd notebook submit -c sentiment-classification -a assets --no-verify\n"
   ]
  },
  {
   "cell_type": "markdown",
   "id": "3a0dc749",
   "metadata": {},
   "source": [
    "## Sklearn models"
   ]
  },
  {
   "cell_type": "code",
   "execution_count": 136,
   "id": "cecfce87",
   "metadata": {},
   "outputs": [],
   "source": [
    "def objective(trial):\n",
    "    global best_score\n",
    "    \n",
    "    # optional PCA\n",
    "    X_train_scaled_reduced = X_train_scaled\n",
    "    X_valid_scaled_reduced = X_valid_scaled\n",
    "    X_test_scaled_reduced = X_test_scaled\n",
    "    num_dim = 512\n",
    "    reduce_dim = trial.suggest_categorical(\"reduce_dim\", [False, True])\n",
    "    if reduce_dim:\n",
    "        num_dim = trial.suggest_int(\"num_dim\", 32, 512)\n",
    "        pca = PCA(n_components=num_dim)\n",
    "        X_train_scaled_reduced = pca.fit_transform(X_train_scaled)\n",
    "        X_valid_scaled_reduced = pca.transform(X_valid_scaled)\n",
    "        X_test_scaled_reduced = pca.transform(X_test_scaled)\n",
    "        \n",
    "    \n",
    "    classifier_name = trial.suggest_categorical('classifier', ['mlp', 'svc'])  # 'knn'\n",
    "    if classifier_name == 'svc':\n",
    "        svc_c = trial.suggest_int('svc_c', 1, 1e8)\n",
    "        svc_degree = trial.suggest_int('svc_degree', 2, 11)\n",
    "        svc_gamma = trial.suggest_float('svc_gamma', 1e-10, 1e1)\n",
    "        params = {\n",
    "            \"svc_c\": svc_c,\n",
    "            \"svc_degree\": svc_degree,\n",
    "            \"svc_gamma\": svc_gamma,\n",
    "        }\n",
    "        classifier = SVC(\n",
    "            C=svc_c,\n",
    "            degree=svc_degree,\n",
    "            gamma=svc_gamma,  # 'auto', \n",
    "            random_state=42,\n",
    "        )\n",
    "    elif classifier_name == 'knn':\n",
    "        knn_neighbors = trial.suggest_int('knn_neighbors', 1, 21)\n",
    "        params = {\n",
    "            \"knn_neighbors\": knn_neighbors,\n",
    "        }\n",
    "        classifier = KNeighborsClassifier(\n",
    "            n_neighbors=knn_neighbors,\n",
    "        )\n",
    "    elif classifier_name == 'mlp':\n",
    "        mlp_alpha = trial.suggest_float('mlp_alpha', 1e-10, 10)\n",
    "        mlp_hidden_layer_sizes = trial.suggest_int('mlp_hidden_layer_sizes', 128, 1024)\n",
    "        mlp_validation_fraction = trial.suggest_float('mlp_validation_fraction', 0.01, 0.2)\n",
    "        params = {\n",
    "            \"mlp_alpha\": mlp_alpha,\n",
    "            \"mlp_hidden_layer_sizes\": mlp_hidden_layer_sizes,\n",
    "            \"mlp_validation_fraction\": mlp_validation_fraction,\n",
    "        }\n",
    "        classifier = MLPClassifier(\n",
    "            alpha = mlp_alpha,\n",
    "            hidden_layer_sizes = mlp_hidden_layer_sizes,\n",
    "            early_stopping = True,\n",
    "            n_iter_no_change = 100,\n",
    "            max_iter = 1000,\n",
    "            validation_fraction = mlp_validation_fraction,\n",
    "            random_state=42,\n",
    "        )\n",
    "    else:\n",
    "        raise Exception(\"Wrong classifier name\") \n",
    "    \n",
    "    classifier = classifier.fit(X_train_scaled_reduced, y_train)\n",
    "    valid_accuracy = classifier.score(X_valid_scaled_reduced, y_valid)\n",
    "    if valid_accuracy > best_score:\n",
    "        print(\"SUBMISION, valid/acc:\", valid_accuracy)\n",
    "        best_score = valid_accuracy\n",
    "        run = neptune.init(\n",
    "            project=NEPTUNE_PROJECT,\n",
    "            api_token=NEPTUNE_API,\n",
    "            tags=[\"sentiment_classification\", \"sklearn\", \"optuna\"]\n",
    "        )\n",
    "        run[\"model\"] = classifier_name\n",
    "        run[\"parameters\"] = params\n",
    "        run[\"reduce_dim\"] = reduce_dim\n",
    "        run[\"num_dim\"] = num_dim\n",
    "        run[\"train/acc\"] = classifier.score(X_train_scaled_reduced, y_train)\n",
    "        run[\"valid/acc\"] = valid_accuracy\n",
    "        run.stop()\n",
    "        \n",
    "        y_test_pred = classifier.predict(X_test_scaled)\n",
    "        make_submission(y_test_pred)\n",
    "        \n",
    "    return valid_accuracy\n"
   ]
  },
  {
   "cell_type": "code",
   "execution_count": 137,
   "id": "a9bbaab8",
   "metadata": {},
   "outputs": [],
   "source": [
    "best_score = 0.795"
   ]
  },
  {
   "cell_type": "code",
   "execution_count": 63,
   "id": "3da19981",
   "metadata": {
    "scrolled": true
   },
   "outputs": [
    {
     "name": "stderr",
     "output_type": "stream",
     "text": [
      "\u001b[32m[I 2022-02-19 11:17:50,888]\u001b[0m A new study created in memory with name: no-name-f36c719d-a90e-48c5-b46e-480ac04b6a2e\u001b[0m\n",
      "\u001b[32m[I 2022-02-19 11:19:33,077]\u001b[0m Trial 0 finished with value: 0.776 and parameters: {'reduce_dim': True, 'num_dim': 421, 'classifier': 'mlp', 'mlp_alpha': 2.5019245021107923, 'mlp_hidden_layer_sizes': 900, 'mlp_validation_fraction': 0.16645067204494246}. Best is trial 0 with value: 0.776.\u001b[0m\n",
      "\u001b[32m[I 2022-02-19 11:20:43,648]\u001b[0m Trial 1 finished with value: 0.752 and parameters: {'reduce_dim': True, 'num_dim': 83, 'classifier': 'mlp', 'mlp_alpha': 6.61428838340386, 'mlp_hidden_layer_sizes': 911, 'mlp_validation_fraction': 0.12969498331407583}. Best is trial 0 with value: 0.776.\u001b[0m\n",
      "\u001b[32m[I 2022-02-19 11:23:11,791]\u001b[0m Trial 2 finished with value: 0.764 and parameters: {'reduce_dim': True, 'num_dim': 420, 'classifier': 'mlp', 'mlp_alpha': 3.22735189916378, 'mlp_hidden_layer_sizes': 762, 'mlp_validation_fraction': 0.13358083106439148}. Best is trial 0 with value: 0.776.\u001b[0m\n",
      "\u001b[32m[I 2022-02-19 11:24:51,657]\u001b[0m Trial 3 finished with value: 0.7915 and parameters: {'reduce_dim': False, 'classifier': 'mlp', 'mlp_alpha': 2.806686364718306, 'mlp_hidden_layer_sizes': 680, 'mlp_validation_fraction': 0.02731453594179662}. Best is trial 3 with value: 0.7915.\u001b[0m\n",
      "\u001b[32m[I 2022-02-19 11:25:54,032]\u001b[0m Trial 4 finished with value: 0.7565 and parameters: {'reduce_dim': True, 'num_dim': 219, 'classifier': 'mlp', 'mlp_alpha': 8.3003630349897, 'mlp_hidden_layer_sizes': 634, 'mlp_validation_fraction': 0.07883168740309936}. Best is trial 3 with value: 0.7915.\u001b[0m\n",
      "\u001b[32m[I 2022-02-19 11:26:57,497]\u001b[0m Trial 5 finished with value: 0.762 and parameters: {'reduce_dim': True, 'num_dim': 118, 'classifier': 'mlp', 'mlp_alpha': 0.6587505900932472, 'mlp_hidden_layer_sizes': 964, 'mlp_validation_fraction': 0.17286630248839324}. Best is trial 3 with value: 0.7915.\u001b[0m\n",
      "\u001b[32m[I 2022-02-19 11:28:50,642]\u001b[0m Trial 6 finished with value: 0.7735 and parameters: {'reduce_dim': True, 'num_dim': 464, 'classifier': 'mlp', 'mlp_alpha': 1.8956272623811063, 'mlp_hidden_layer_sizes': 727, 'mlp_validation_fraction': 0.12169320461888987}. Best is trial 3 with value: 0.7915.\u001b[0m\n",
      "\u001b[32m[I 2022-02-19 11:30:36,028]\u001b[0m Trial 7 finished with value: 0.767 and parameters: {'reduce_dim': True, 'num_dim': 284, 'classifier': 'mlp', 'mlp_alpha': 1.2483569133543568, 'mlp_hidden_layer_sizes': 651, 'mlp_validation_fraction': 0.13209002911101916}. Best is trial 3 with value: 0.7915.\u001b[0m\n",
      "\u001b[32m[I 2022-02-19 11:31:56,142]\u001b[0m Trial 8 finished with value: 0.771 and parameters: {'reduce_dim': True, 'num_dim': 228, 'classifier': 'mlp', 'mlp_alpha': 9.87459311041519, 'mlp_hidden_layer_sizes': 739, 'mlp_validation_fraction': 0.13672341731660148}. Best is trial 3 with value: 0.7915.\u001b[0m\n",
      "\u001b[32m[I 2022-02-19 11:33:47,838]\u001b[0m Trial 9 finished with value: 0.787 and parameters: {'reduce_dim': False, 'classifier': 'mlp', 'mlp_alpha': 0.8192048861845439, 'mlp_hidden_layer_sizes': 648, 'mlp_validation_fraction': 0.19921545567033808}. Best is trial 3 with value: 0.7915.\u001b[0m\n"
     ]
    }
   ],
   "source": [
    "study = optuna.create_study(direction='maximize')\n",
    "study.optimize(objective, n_trials=10)"
   ]
  },
  {
   "cell_type": "code",
   "execution_count": 14,
   "id": "66d76cd6",
   "metadata": {},
   "outputs": [
    {
     "data": {
      "text/plain": [
       "{'classifier': 'mlp',\n",
       " 'mlp_alpha': 0.2017750141364524,\n",
       " 'mlp_hidden_layer_sizes': 455,\n",
       " 'mlp_validation_fraction': 0.0291592386774798}"
      ]
     },
     "execution_count": 14,
     "metadata": {},
     "output_type": "execute_result"
    }
   ],
   "source": [
    "study.best_params"
   ]
  },
  {
   "cell_type": "markdown",
   "id": "2406c700",
   "metadata": {},
   "source": [
    "## Sklearn models with crossvalidation"
   ]
  },
  {
   "cell_type": "code",
   "execution_count": 138,
   "id": "75e2e49a",
   "metadata": {},
   "outputs": [],
   "source": [
    "train_valid_df = pd.concat([train_df, val_df]) # concat the train and validation set, we will be using the k fold method later\n",
    "X_train_valid = [literal_eval(embedding) for embedding in train_valid_df['embeddings'].values]\n",
    "y_train_valid = train_valid_df['label'].values"
   ]
  },
  {
   "cell_type": "code",
   "execution_count": 139,
   "id": "04078500",
   "metadata": {},
   "outputs": [],
   "source": [
    "X_train_valid_scaled = scaler.transform(X_train_valid)"
   ]
  },
  {
   "cell_type": "code",
   "execution_count": 140,
   "id": "388724d7",
   "metadata": {},
   "outputs": [],
   "source": [
    "Fold = StratifiedKFold(n_splits = 5, shuffle = True, random_state = 42)"
   ]
  },
  {
   "cell_type": "code",
   "execution_count": 147,
   "id": "7183932e",
   "metadata": {},
   "outputs": [],
   "source": [
    "def objective_cv(trial):\n",
    "    global best_score\n",
    "    params = {\n",
    "        \"alpha\": trial.suggest_float('alpha', 1e-10, 10),\n",
    "        \"hidden_layer_sizes\": trial.suggest_int('hidden_layer_sizes', 256, 2048),\n",
    "        \"validation_fraction\": trial.suggest_float('mlp_validation_fraction', 0.01, 0.2),\n",
    "    }\n",
    "    \n",
    "    # optional PCA\n",
    "    X_train_valid_scaled_reduced = X_train_valid_scaled\n",
    "    X_test_scaled_reduced = X_test_scaled\n",
    "    num_dim = 512\n",
    "    reduce_dim = trial.suggest_categorical(\"reduce_dim\", [False, True])\n",
    "    if reduce_dim:\n",
    "        num_dim = trial.suggest_int(\"num_dim\", 64, 512)\n",
    "        pca = PCA(n_components=num_dim)\n",
    "        X_train_valid_scaled_reduced = pca.fit_transform(X_train_valid_scaled)\n",
    "        X_test_scaled_reduced = pca.transform(X_test_scaled)\n",
    "        \n",
    "    # kfold\n",
    "    f1_scores = []\n",
    "    models = []\n",
    "    for n, (trn_, val_) in tqdm(enumerate(Fold.split(X_train_valid_scaled_reduced, y_train_valid))):\n",
    "        \n",
    "        fold_train_data = X_train_valid_scaled_reduced[trn_]\n",
    "        fold_valid_data = X_train_valid_scaled_reduced[val_]\n",
    "        \n",
    "        fold_train_labels = y_train_valid[trn_]\n",
    "        fold_valid_labels = y_train_valid[val_]\n",
    "        model = MLPClassifier(**params)\n",
    "        model.fit(fold_train_data, fold_train_labels)\n",
    "        models.append(model)\n",
    "        \n",
    "        valid_pred = model.predict(fold_valid_data)\n",
    "        f1 = f1_score(fold_valid_labels, valid_pred, average ='weighted')\n",
    "        f1_scores.append(f1)\n",
    "\n",
    "    mean_valid_f1 = np.mean(f1_scores)\n",
    "    \n",
    "    # neptune and submission\n",
    "    if mean_valid_f1 > best_score:\n",
    "        print(\"SUBMISION, mean_valid_f1:\", mean_valid_f1)\n",
    "#         best_score = mean_valid_f1\n",
    "        run = neptune.init(\n",
    "            project=NEPTUNE_PROJECT,\n",
    "            api_token=NEPTUNE_API,\n",
    "            tags=[\"sentiment_classification\", \"mlp\", \"optuna\", \"crossval\"]\n",
    "        )\n",
    "        run[\"model\"] = \"mlp\"\n",
    "        run[\"parameters\"] = params\n",
    "        run[\"reduce_dim\"] = reduce_dim\n",
    "        run[\"num_dim\"] = num_dim\n",
    "        run[\"mean_valid_f1\"] = mean_valid_f1\n",
    "        run.stop()\n",
    "        \n",
    "        predictions = []\n",
    "        for model in models:\n",
    "            predictions.append(model.predict(X_test_scaled_reduced))\n",
    "        \n",
    "        y_test_pred = [\n",
    "            Counter([pred[i] for pred in predictions]).most_common(1)[0][0]\n",
    "            for i in range(len(X_test_scaled_reduced))\n",
    "        ]\n",
    "            \n",
    "        make_submission(y_test_pred)\n",
    "\n",
    "    return mean_valid_f1\n"
   ]
  },
  {
   "cell_type": "code",
   "execution_count": 148,
   "id": "be5523b4",
   "metadata": {},
   "outputs": [],
   "source": [
    "best_score = 0.796"
   ]
  },
  {
   "cell_type": "code",
   "execution_count": 149,
   "id": "cfc9b524",
   "metadata": {
    "scrolled": true
   },
   "outputs": [
    {
     "name": "stderr",
     "output_type": "stream",
     "text": [
      "\u001b[32m[I 2022-02-21 13:50:20,566]\u001b[0m A new study created in memory with name: no-name-7118ea0a-d085-4be2-8f2a-ec5e9948607a\u001b[0m\n",
      "5it [06:22, 76.40s/it]\n",
      "\u001b[32m[I 2022-02-21 13:56:42,582]\u001b[0m Trial 0 finished with value: 0.7834432731932989 and parameters: {'alpha': 9.86423148000362, 'hidden_layer_sizes': 867, 'mlp_validation_fraction': 0.033640771070241784, 'reduce_dim': False}. Best is trial 0 with value: 0.7834432731932989.\u001b[0m\n",
      "5it [05:19, 63.89s/it]\n",
      "\u001b[32m[I 2022-02-21 14:02:03,289]\u001b[0m Trial 1 finished with value: 0.7560551830401596 and parameters: {'alpha': 3.2772019271563284, 'hidden_layer_sizes': 1663, 'mlp_validation_fraction': 0.016367004011714415, 'reduce_dim': True, 'num_dim': 71}. Best is trial 0 with value: 0.7834432731932989.\u001b[0m\n",
      "5it [11:19, 135.90s/it]\n",
      "\u001b[32m[I 2022-02-21 14:13:28,045]\u001b[0m Trial 2 finished with value: 0.7908708595821037 and parameters: {'alpha': 7.502922740332139, 'hidden_layer_sizes': 1606, 'mlp_validation_fraction': 0.15263989615551138, 'reduce_dim': True, 'num_dim': 380}. Best is trial 2 with value: 0.7908708595821037.\u001b[0m\n",
      "5it [05:49, 69.88s/it] \n",
      "\u001b[32m[I 2022-02-21 14:19:17,439]\u001b[0m Trial 3 finished with value: 0.7773376201291422 and parameters: {'alpha': 1.3533622003609014, 'hidden_layer_sizes': 1725, 'mlp_validation_fraction': 0.18042016558638446, 'reduce_dim': False}. Best is trial 2 with value: 0.7908708595821037.\u001b[0m\n",
      "5it [14:19, 171.84s/it]\n",
      "\u001b[32m[I 2022-02-21 14:33:36,637]\u001b[0m Trial 4 finished with value: 0.785642082607797 and parameters: {'alpha': 5.138286518447571, 'hidden_layer_sizes': 2023, 'mlp_validation_fraction': 0.07443498438383991, 'reduce_dim': False}. Best is trial 2 with value: 0.7908708595821037.\u001b[0m\n",
      "5it [11:20, 136.02s/it]\n",
      "\u001b[32m[I 2022-02-21 14:44:56,726]\u001b[0m Trial 5 finished with value: 0.7872166263423261 and parameters: {'alpha': 2.902280522766241, 'hidden_layer_sizes': 1820, 'mlp_validation_fraction': 0.013076277029223258, 'reduce_dim': False}. Best is trial 2 with value: 0.7908708595821037.\u001b[0m\n",
      "5it [06:50, 82.18s/it]\n",
      "\u001b[32m[I 2022-02-21 14:51:49,187]\u001b[0m Trial 6 finished with value: 0.778318096550487 and parameters: {'alpha': 2.040840545444672, 'hidden_layer_sizes': 1784, 'mlp_validation_fraction': 0.19060535563775705, 'reduce_dim': True, 'num_dim': 221}. Best is trial 2 with value: 0.7908708595821037.\u001b[0m\n",
      "5it [05:22, 64.52s/it]\n",
      "\u001b[32m[I 2022-02-21 14:57:11,818]\u001b[0m Trial 7 finished with value: 0.7881787864200741 and parameters: {'alpha': 1.8992864523371187, 'hidden_layer_sizes': 1376, 'mlp_validation_fraction': 0.09160524968739053, 'reduce_dim': False}. Best is trial 2 with value: 0.7908708595821037.\u001b[0m\n",
      "5it [04:42, 56.41s/it]\n",
      "\u001b[32m[I 2022-02-21 15:01:55,300]\u001b[0m Trial 8 finished with value: 0.7603161083142188 and parameters: {'alpha': 8.69797959543894, 'hidden_layer_sizes': 2030, 'mlp_validation_fraction': 0.01174459326332352, 'reduce_dim': True, 'num_dim': 93}. Best is trial 2 with value: 0.7908708595821037.\u001b[0m\n",
      "5it [03:46, 45.27s/it]\n",
      "\u001b[32m[I 2022-02-21 15:05:42,805]\u001b[0m Trial 9 finished with value: 0.7592730753684518 and parameters: {'alpha': 7.933544928058118, 'hidden_layer_sizes': 1920, 'mlp_validation_fraction': 0.1632383654044686, 'reduce_dim': True, 'num_dim': 84}. Best is trial 2 with value: 0.7908708595821037.\u001b[0m\n",
      "5it [03:37, 43.41s/it]\n",
      "\u001b[32m[I 2022-02-21 15:09:20,371]\u001b[0m Trial 10 finished with value: 0.7939932889513738 and parameters: {'alpha': 6.299883726627123, 'hidden_layer_sizes': 552, 'mlp_validation_fraction': 0.14096217259927024, 'reduce_dim': True, 'num_dim': 465}. Best is trial 10 with value: 0.7939932889513738.\u001b[0m\n",
      "3it [02:28, 47.89s/it]/mnt/ml-team/homes/paulina.knut/aicrowd/venv_pascal02/lib/python3.8/site-packages/sklearn/neural_network/_multilayer_perceptron.py:692: ConvergenceWarning: Stochastic Optimizer: Maximum iterations (200) reached and the optimization hasn't converged yet.\n",
      "  warnings.warn(\n",
      "5it [04:24, 52.95s/it]\n",
      "\u001b[32m[I 2022-02-21 15:13:45,653]\u001b[0m Trial 11 finished with value: 0.7929367327216507 and parameters: {'alpha': 6.084952408422586, 'hidden_layer_sizes': 491, 'mlp_validation_fraction': 0.13812879605034556, 'reduce_dim': True, 'num_dim': 489}. Best is trial 10 with value: 0.7939932889513738.\u001b[0m\n",
      "5it [02:05, 25.12s/it]\n"
     ]
    },
    {
     "name": "stdout",
     "output_type": "stream",
     "text": [
      "SUBMISION, mean_valid_f1: 0.7968338261824119\n",
      "https://app.neptune.ai/deepsense-ai/AIcrowd/e/AIC-222\n",
      "Remember to stop your run once you’ve finished logging your metadata (https://docs.neptune.ai/api-reference/run#.stop). It will be stopped automatically only when the notebook kernel/interactive console is terminated.\n",
      "Shutting down background jobs, please wait a moment...\n",
      "Done!\n"
     ]
    },
    {
     "name": "stderr",
     "output_type": "stream",
     "text": [
      "Waiting for the remaining 43 operations to synchronize with Neptune. Do not kill this process.\n"
     ]
    },
    {
     "name": "stdout",
     "output_type": "stream",
     "text": [
      "All 43 operations synced, thanks for waiting!\n"
     ]
    },
    {
     "data": {
      "application/javascript": [
       "IPython.notebook.save_checkpoint();"
      ],
      "text/plain": [
       "<IPython.core.display.Javascript object>"
      ]
     },
     "metadata": {},
     "output_type": "display_data"
    },
    {
     "name": "stdout",
     "output_type": "stream",
     "text": [
      "Using notebook: sklearn_models.ipynb for submission...\n",
      "Removing existing files from submission directory...\n",
      "Scrubbing API keys from the notebook...\n",
      "Collecting notebook...\n"
     ]
    },
    {
     "data": {
      "application/vnd.jupyter.widget-view+json": {
       "model_id": "e6856b5e5a344bcfb8a8006ae4ee5780",
       "version_major": 2,
       "version_minor": 0
      },
      "text/plain": [
       "Output()"
      ]
     },
     "metadata": {},
     "output_type": "display_data"
    }
   ],
   "source": [
    "study_cv = optuna.create_study(direction='maximize')\n",
    "study_cv.optimize(objective_cv, n_trials=30)"
   ]
  },
  {
   "cell_type": "markdown",
   "id": "fe6b474a",
   "metadata": {},
   "source": [
    "## Validation"
   ]
  },
  {
   "cell_type": "code",
   "execution_count": 25,
   "id": "f66acfcc",
   "metadata": {},
   "outputs": [
    {
     "name": "stdout",
     "output_type": "stream",
     "text": [
      "              precision    recall  f1-score   support\n",
      "\n",
      "    negative       0.99      0.99      0.99       640\n",
      "     neutral       0.99      0.99      0.99       633\n",
      "    positive       1.00      1.00      1.00       727\n",
      "\n",
      "    accuracy                           0.99      2000\n",
      "   macro avg       0.99      0.99      0.99      2000\n",
      "weighted avg       0.99      0.99      0.99      2000\n",
      "\n"
     ]
    }
   ],
   "source": [
    "y_valid_pred = classifier.predict(X_valid_scaled)\n",
    "print(classification_report(y_valid, y_valid_pred))"
   ]
  },
  {
   "cell_type": "code",
   "execution_count": 26,
   "id": "1f771788",
   "metadata": {},
   "outputs": [],
   "source": [
    "y_test_pred = classifier.predict(X_test_scaled)"
   ]
  },
  {
   "cell_type": "code",
   "execution_count": 27,
   "id": "1103b5f0",
   "metadata": {},
   "outputs": [],
   "source": [
    "submission = pd.DataFrame(\n",
    "    {\n",
    "        \"embeddings\": X_test_scaled.tolist(),\n",
    "        \"label\": y_test_pred,\n",
    "    }\n",
    ")"
   ]
  },
  {
   "cell_type": "markdown",
   "id": "59fe46d8",
   "metadata": {},
   "source": [
    "## Submission"
   ]
  },
  {
   "cell_type": "code",
   "execution_count": 28,
   "id": "2002e539",
   "metadata": {},
   "outputs": [],
   "source": [
    "submission.to_csv(os.path.join(\"assets\", \"submission.csv\"))"
   ]
  },
  {
   "cell_type": "code",
   "execution_count": 29,
   "id": "c6d9a223",
   "metadata": {},
   "outputs": [
    {
     "data": {
      "application/javascript": [
       "IPython.notebook.save_checkpoint();"
      ],
      "text/plain": [
       "<IPython.core.display.Javascript object>"
      ]
     },
     "metadata": {},
     "output_type": "display_data"
    },
    {
     "name": "stdout",
     "output_type": "stream",
     "text": [
      "Using notebook: sklearn_models.ipynb for submission...\n",
      "Removing existing files from submission directory...\n",
      "Scrubbing API keys from the notebook...\n",
      "Collecting notebook...\n"
     ]
    },
    {
     "data": {
      "application/vnd.jupyter.widget-view+json": {
       "model_id": "fb2c787ca1f34e2d9ff5b56f2f276644",
       "version_major": 2,
       "version_minor": 0
      },
      "text/plain": [
       "Output()"
      ]
     },
     "metadata": {},
     "output_type": "display_data"
    },
    {
     "name": "stderr",
     "output_type": "stream",
     "text": [
      "IOPub message rate exceeded.\n",
      "The notebook server will temporarily stop sending output\n",
      "to the client in order to avoid crashing it.\n",
      "To change this limit, set the config variable\n",
      "`--NotebookApp.iopub_msg_rate_limit`.\n",
      "\n",
      "Current values:\n",
      "NotebookApp.iopub_msg_rate_limit=1000.0 (msgs/sec)\n",
      "NotebookApp.rate_limit_window=3.0 (secs)\n",
      "\n"
     ]
    },
    {
     "data": {
      "text/html": [
       "<pre style=\"white-space:pre;overflow-x:auto;line-height:normal;font-family:Menlo,'DejaVu Sans Mono',consolas,'Courier New',monospace\"></pre>\n"
      ],
      "text/plain": []
     },
     "metadata": {},
     "output_type": "display_data"
    },
    {
     "data": {
      "text/html": [
       "<pre style=\"white-space:pre;overflow-x:auto;line-height:normal;font-family:Menlo,'DejaVu Sans Mono',consolas,'Courier New',monospace\">\n",
       "</pre>\n"
      ],
      "text/plain": [
       "\n"
      ]
     },
     "metadata": {},
     "output_type": "display_data"
    },
    {
     "data": {
      "text/html": [
       "<pre style=\"white-space:pre;overflow-x:auto;line-height:normal;font-family:Menlo,'DejaVu Sans Mono',consolas,'Courier New',monospace\">                                                       ╭─────────────────────────╮                                                       \n",
       "                                                       │ <span style=\"font-weight: bold\">Successfully submitted!</span> │                                                       \n",
       "                                                       ╰─────────────────────────╯                                                       \n",
       "</pre>\n"
      ],
      "text/plain": [
       "                                                       ╭─────────────────────────╮                                                       \n",
       "                                                       │ \u001b[1mSuccessfully submitted!\u001b[0m │                                                       \n",
       "                                                       ╰─────────────────────────╯                                                       \n"
      ]
     },
     "metadata": {},
     "output_type": "display_data"
    },
    {
     "data": {
      "text/html": [
       "<pre style=\"white-space:pre;overflow-x:auto;line-height:normal;font-family:Menlo,'DejaVu Sans Mono',consolas,'Courier New',monospace\"><span style=\"font-style: italic\">                                                             Important links                                                             </span>\n",
       "┌──────────────────┬────────────────────────────────────────────────────────────────────────────────────────────────────────────────────┐\n",
       "│  This submission │ https://www.aicrowd.com/challenges/ai-blitz-xiii/problems/sentiment-classification/submissions/174152              │\n",
       "│                  │                                                                                                                    │\n",
       "│  All submissions │ https://www.aicrowd.com/challenges/ai-blitz-xiii/problems/sentiment-classification/submissions?my_submissions=true │\n",
       "│                  │                                                                                                                    │\n",
       "│      Leaderboard │ https://www.aicrowd.com/challenges/ai-blitz-xiii/problems/sentiment-classification/leaderboards                    │\n",
       "│                  │                                                                                                                    │\n",
       "│ Discussion forum │ https://discourse.aicrowd.com/c/ai-blitz-xiii                                                                      │\n",
       "│                  │                                                                                                                    │\n",
       "│   Challenge page │ https://www.aicrowd.com/challenges/ai-blitz-xiii/problems/sentiment-classification                                 │\n",
       "└──────────────────┴────────────────────────────────────────────────────────────────────────────────────────────────────────────────────┘\n",
       "</pre>\n"
      ],
      "text/plain": [
       "\u001b[3m                                                             Important links                                                             \u001b[0m\n",
       "┌──────────────────┬────────────────────────────────────────────────────────────────────────────────────────────────────────────────────┐\n",
       "│  This submission │ https://www.aicrowd.com/challenges/ai-blitz-xiii/problems/sentiment-classification/submissions/174152              │\n",
       "│                  │                                                                                                                    │\n",
       "│  All submissions │ https://www.aicrowd.com/challenges/ai-blitz-xiii/problems/sentiment-classification/submissions?my_submissions=true │\n",
       "│                  │                                                                                                                    │\n",
       "│      Leaderboard │ https://www.aicrowd.com/challenges/ai-blitz-xiii/problems/sentiment-classification/leaderboards                    │\n",
       "│                  │                                                                                                                    │\n",
       "│ Discussion forum │ https://discourse.aicrowd.com/c/ai-blitz-xiii                                                                      │\n",
       "│                  │                                                                                                                    │\n",
       "│   Challenge page │ https://www.aicrowd.com/challenges/ai-blitz-xiii/problems/sentiment-classification                                 │\n",
       "└──────────────────┴────────────────────────────────────────────────────────────────────────────────────────────────────────────────────┘\n"
      ]
     },
     "metadata": {},
     "output_type": "display_data"
    }
   ],
   "source": [
    "%aicrowd notebook submit -c sentiment-classification -a assets --no-verify"
   ]
  },
  {
   "cell_type": "code",
   "execution_count": null,
   "id": "cc0cccfe",
   "metadata": {},
   "outputs": [],
   "source": []
  }
 ],
 "metadata": {
  "kernelspec": {
   "display_name": "Python 3 (ipykernel)",
   "language": "python",
   "name": "python3"
  },
  "language_info": {
   "codemirror_mode": {
    "name": "ipython",
    "version": 3
   },
   "file_extension": ".py",
   "mimetype": "text/x-python",
   "name": "python",
   "nbconvert_exporter": "python",
   "pygments_lexer": "ipython3",
   "version": "3.8.10"
  },
  "neptune": {
   "notebookId": "959d5782-2f1c-479e-8f72-ca6f351c8b40",
   "projectVersion": 2
  }
 },
 "nbformat": 4,
 "nbformat_minor": 5
}
