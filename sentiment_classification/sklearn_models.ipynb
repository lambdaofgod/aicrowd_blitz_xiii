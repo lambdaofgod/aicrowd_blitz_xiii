{
 "cells": [
  {
   "cell_type": "markdown",
   "id": "c06e6923",
   "metadata": {},
   "source": [
    "# Sentiment classification: sklearn models"
   ]
  },
  {
   "cell_type": "code",
   "execution_count": 125,
   "id": "ad9a732b",
   "metadata": {},
   "outputs": [
    {
     "name": "stdout",
     "output_type": "stream",
     "text": [
      "The aicrowd.magic extension is already loaded. To reload it, use:\n",
      "  %reload_ext aicrowd.magic\n"
     ]
    }
   ],
   "source": [
    "%load_ext aicrowd.magic"
   ]
  },
  {
   "cell_type": "code",
   "execution_count": 126,
   "id": "d0030bb6",
   "metadata": {},
   "outputs": [
    {
     "name": "stdout",
     "output_type": "stream",
     "text": [
      "Please login here: \u001b[34m\u001b[1m\u001b[4mhttps://api.aicrowd.com/auth/4K4R3TM3Wilf3Wb0YYutWzKRpuB4g9ikjR0pSKwpG34\u001b[0m\n",
      "\u001b[32mAPI Key valid\u001b[0m\n",
      "\u001b[32mGitlab access token valid\u001b[0m\n",
      "\u001b[32mSaved details successfully!\u001b[0m\n"
     ]
    }
   ],
   "source": [
    "%aicrowd login"
   ]
  },
  {
   "cell_type": "code",
   "execution_count": 127,
   "id": "9e11f58a",
   "metadata": {},
   "outputs": [],
   "source": [
    "# %aicrowd ds dl -c sentiment-classification -o data"
   ]
  },
  {
   "cell_type": "markdown",
   "id": "df5880c3",
   "metadata": {},
   "source": [
    "## Imports"
   ]
  },
  {
   "cell_type": "code",
   "execution_count": 128,
   "id": "7bd4f984",
   "metadata": {},
   "outputs": [],
   "source": [
    "import os\n",
    "\n",
    "from ast import literal_eval\n",
    "from collections import Counter\n",
    "import pandas as pd\n",
    "import neptune.new as neptune\n",
    "import numpy as np\n",
    "from scipy.stats import uniform\n",
    "import optuna\n",
    "from tqdm import tqdm\n",
    "\n",
    "from sklearn.decomposition import PCA\n",
    "from sklearn.ensemble import RandomForestClassifier, AdaBoostClassifier\n",
    "from sklearn.metrics import classification_report, confusion_matrix, f1_score, accuracy_score\n",
    "from sklearn.model_selection import StratifiedKFold, RandomizedSearchCV\n",
    "from sklearn.naive_bayes import GaussianNB\n",
    "from sklearn.neighbors import KNeighborsClassifier\n",
    "from sklearn.neural_network import MLPClassifier\n",
    "from sklearn.preprocessing import StandardScaler\n",
    "from sklearn.svm import SVC"
   ]
  },
  {
   "cell_type": "code",
   "execution_count": 129,
   "id": "e9c45f12",
   "metadata": {},
   "outputs": [],
   "source": [
    "NEPTUNE_PROJECT = \"deepsense-ai/AIcrowd\"\n",
    "NEPTUNE_API = \"eyJhcGlfYWRkcmVzcyI6Imh0dHBzOi8vYXBwLm5lcHR1bmUuYWkiLCJhcGlfdXJsIjoiaHR0cHM6Ly9hcHAubmVwdHVuZS5haSIsImFwaV9rZXkiOiI0NWE5MTZhNi0yMDE3LTQ3N2EtOGMwOS1lZGY1YjRiOWJlYmUifQ==\""
   ]
  },
  {
   "cell_type": "markdown",
   "id": "65f227f3",
   "metadata": {},
   "source": [
    "## Data"
   ]
  },
  {
   "cell_type": "code",
   "execution_count": 130,
   "id": "8d3891fa",
   "metadata": {},
   "outputs": [],
   "source": [
    "train_df = pd.read_csv(\"data/train.csv\")\n",
    "val_df = pd.read_csv(\"data/val.csv\")\n",
    "test_df = pd.read_csv(\"data/test.csv\")"
   ]
  },
  {
   "cell_type": "code",
   "execution_count": 131,
   "id": "9c08bf28",
   "metadata": {},
   "outputs": [
    {
     "data": {
      "text/html": [
       "<div>\n",
       "<style scoped>\n",
       "    .dataframe tbody tr th:only-of-type {\n",
       "        vertical-align: middle;\n",
       "    }\n",
       "\n",
       "    .dataframe tbody tr th {\n",
       "        vertical-align: top;\n",
       "    }\n",
       "\n",
       "    .dataframe thead th {\n",
       "        text-align: right;\n",
       "    }\n",
       "</style>\n",
       "<table border=\"1\" class=\"dataframe\">\n",
       "  <thead>\n",
       "    <tr style=\"text-align: right;\">\n",
       "      <th></th>\n",
       "      <th>embeddings</th>\n",
       "      <th>label</th>\n",
       "    </tr>\n",
       "  </thead>\n",
       "  <tbody>\n",
       "    <tr>\n",
       "      <th>0</th>\n",
       "      <td>[0.3206779360771179, 0.988215982913971, 1.0441...</td>\n",
       "      <td>positive</td>\n",
       "    </tr>\n",
       "    <tr>\n",
       "      <th>1</th>\n",
       "      <td>[0.05074610561132431, 1.0742985010147095, 0.60...</td>\n",
       "      <td>negative</td>\n",
       "    </tr>\n",
       "    <tr>\n",
       "      <th>2</th>\n",
       "      <td>[0.41962647438049316, 0.4505457878112793, 1.39...</td>\n",
       "      <td>negative</td>\n",
       "    </tr>\n",
       "    <tr>\n",
       "      <th>3</th>\n",
       "      <td>[0.4361684024333954, 0.19191382825374603, 0.83...</td>\n",
       "      <td>positive</td>\n",
       "    </tr>\n",
       "    <tr>\n",
       "      <th>4</th>\n",
       "      <td>[0.6382085084915161, 0.8352395296096802, 0.393...</td>\n",
       "      <td>neutral</td>\n",
       "    </tr>\n",
       "  </tbody>\n",
       "</table>\n",
       "</div>"
      ],
      "text/plain": [
       "                                          embeddings     label\n",
       "0  [0.3206779360771179, 0.988215982913971, 1.0441...  positive\n",
       "1  [0.05074610561132431, 1.0742985010147095, 0.60...  negative\n",
       "2  [0.41962647438049316, 0.4505457878112793, 1.39...  negative\n",
       "3  [0.4361684024333954, 0.19191382825374603, 0.83...  positive\n",
       "4  [0.6382085084915161, 0.8352395296096802, 0.393...   neutral"
      ]
     },
     "execution_count": 131,
     "metadata": {},
     "output_type": "execute_result"
    }
   ],
   "source": [
    "train_df.head()"
   ]
  },
  {
   "cell_type": "code",
   "execution_count": 132,
   "id": "98e2c2db",
   "metadata": {},
   "outputs": [
    {
     "data": {
      "text/plain": [
       "neutral     1694\n",
       "positive    1684\n",
       "negative    1622\n",
       "Name: label, dtype: int64"
      ]
     },
     "execution_count": 132,
     "metadata": {},
     "output_type": "execute_result"
    }
   ],
   "source": [
    "train_df.label.value_counts()"
   ]
  },
  {
   "cell_type": "code",
   "execution_count": 133,
   "id": "a38301b9",
   "metadata": {},
   "outputs": [],
   "source": [
    "X_train = [literal_eval(embedding)  for embedding in train_df['embeddings'].values]\n",
    "y_train = train_df['label'].values\n",
    "\n",
    "X_valid = [literal_eval(embedding)  for embedding in val_df['embeddings'].values]\n",
    "y_valid = val_df['label'].values\n",
    "\n",
    "X_test = [literal_eval(embedding)  for embedding in test_df['embeddings'].values]"
   ]
  },
  {
   "cell_type": "markdown",
   "id": "57b8d513",
   "metadata": {},
   "source": [
    "## Standard Scaler"
   ]
  },
  {
   "cell_type": "code",
   "execution_count": 134,
   "id": "1cff0e0e",
   "metadata": {},
   "outputs": [],
   "source": [
    "scaler = StandardScaler()\n",
    "scaler.fit(X_train)\n",
    "\n",
    "X_train_scaled = scaler.transform(X_train)\n",
    "X_valid_scaled = scaler.transform(X_valid)\n",
    "X_test_scaled = scaler.transform(X_test)"
   ]
  },
  {
   "cell_type": "markdown",
   "id": "900b8059",
   "metadata": {},
   "source": [
    "## Submission"
   ]
  },
  {
   "cell_type": "code",
   "execution_count": 135,
   "id": "030083ee",
   "metadata": {},
   "outputs": [],
   "source": [
    "def make_submission(y_test_pred):\n",
    "    submission = pd.DataFrame(\n",
    "        {\n",
    "            \"embeddings\": X_test,\n",
    "            \"label\": y_test_pred,\n",
    "        }\n",
    "    )\n",
    "    submission.to_csv(os.path.join(\"assets\", \"submission.csv\"))\n",
    "    %aicrowd notebook submit -c sentiment-classification -a assets --no-verify\n"
   ]
  },
  {
   "cell_type": "markdown",
   "id": "3a0dc749",
   "metadata": {},
   "source": [
    "## Sklearn models"
   ]
  },
  {
   "cell_type": "code",
   "execution_count": 154,
   "id": "cecfce87",
   "metadata": {},
   "outputs": [],
   "source": [
    "def objective(trial):\n",
    "    global best_score\n",
    "    \n",
    "    # optional PCA\n",
    "    X_train_scaled_reduced = X_train_scaled\n",
    "    X_valid_scaled_reduced = X_valid_scaled\n",
    "    X_test_scaled_reduced = X_test_scaled\n",
    "    num_dim = 512\n",
    "    reduce_dim = trial.suggest_categorical(\"reduce_dim\", [False, True])\n",
    "    if reduce_dim:\n",
    "        num_dim = trial.suggest_int(\"num_dim\", 32, 512)\n",
    "        pca = PCA(n_components=num_dim)\n",
    "        X_train_scaled_reduced = pca.fit_transform(X_train_scaled)\n",
    "        X_valid_scaled_reduced = pca.transform(X_valid_scaled)\n",
    "        X_test_scaled_reduced = pca.transform(X_test_scaled)\n",
    "        \n",
    "    \n",
    "    classifier_name = trial.suggest_categorical('classifier', ['svc'])  # 'mlp' 'knn'\n",
    "    if classifier_name == 'svc':\n",
    "        svc_c = trial.suggest_int('svc_c', 1, 1e8)\n",
    "        svc_degree = trial.suggest_int('svc_degree', 2, 11)\n",
    "        svc_gamma = trial.suggest_float('svc_gamma', 1e-10, 1e1)\n",
    "        params = {\n",
    "            \"svc_c\": svc_c,\n",
    "            \"svc_degree\": svc_degree,\n",
    "            \"svc_gamma\": svc_gamma,\n",
    "        }\n",
    "        classifier = SVC(\n",
    "            C=svc_c,\n",
    "            degree=svc_degree,\n",
    "            gamma=svc_gamma,  # 'auto', \n",
    "            random_state=42,\n",
    "        )\n",
    "    elif classifier_name == 'knn':\n",
    "        knn_neighbors = trial.suggest_int('knn_neighbors', 1, 21)\n",
    "        params = {\n",
    "            \"knn_neighbors\": knn_neighbors,\n",
    "        }\n",
    "        classifier = KNeighborsClassifier(\n",
    "            n_neighbors=knn_neighbors,\n",
    "        )\n",
    "    elif classifier_name == 'mlp':\n",
    "        mlp_alpha = trial.suggest_float('mlp_alpha', 1e-10, 10)\n",
    "        mlp_hidden_layer_sizes = trial.suggest_int('mlp_hidden_layer_sizes', 128, 1024)\n",
    "        mlp_validation_fraction = trial.suggest_float('mlp_validation_fraction', 0.01, 0.2)\n",
    "        params = {\n",
    "            \"mlp_alpha\": mlp_alpha,\n",
    "            \"mlp_hidden_layer_sizes\": mlp_hidden_layer_sizes,\n",
    "            \"mlp_validation_fraction\": mlp_validation_fraction,\n",
    "        }\n",
    "        classifier = MLPClassifier(\n",
    "            alpha = mlp_alpha,\n",
    "            hidden_layer_sizes = mlp_hidden_layer_sizes,\n",
    "            early_stopping = True,\n",
    "            n_iter_no_change = 100,\n",
    "            max_iter = 1000,\n",
    "            validation_fraction = mlp_validation_fraction,\n",
    "            random_state=42,\n",
    "        )\n",
    "    else:\n",
    "        raise Exception(\"Wrong classifier name\") \n",
    "    \n",
    "    classifier = classifier.fit(X_train_scaled_reduced, y_train)\n",
    "    valid_accuracy = classifier.score(X_valid_scaled_reduced, y_valid)\n",
    "    if valid_accuracy > best_score:\n",
    "        print(\"SUBMISION, valid/acc:\", valid_accuracy)\n",
    "#         best_score = valid_accuracy\n",
    "        run = neptune.init(\n",
    "            project=NEPTUNE_PROJECT,\n",
    "            api_token=NEPTUNE_API,\n",
    "            tags=[\"sentiment_classification\", \"sklearn\", \"optuna\"]\n",
    "        )\n",
    "        run[\"model\"] = classifier_name\n",
    "        run[\"parameters\"] = params\n",
    "        run[\"reduce_dim\"] = reduce_dim\n",
    "        run[\"num_dim\"] = num_dim\n",
    "        run[\"train/acc\"] = classifier.score(X_train_scaled_reduced, y_train)\n",
    "        run[\"valid/acc\"] = valid_accuracy\n",
    "        run.stop()\n",
    "        \n",
    "        y_test_pred = classifier.predict(X_test_scaled)\n",
    "        make_submission(y_test_pred)\n",
    "        \n",
    "    return valid_accuracy\n"
   ]
  },
  {
   "cell_type": "code",
   "execution_count": 155,
   "id": "2620fa61",
   "metadata": {},
   "outputs": [],
   "source": [
    "best_score = 0.795"
   ]
  },
  {
   "cell_type": "code",
   "execution_count": 158,
   "id": "3da19981",
   "metadata": {
    "scrolled": true
   },
   "outputs": [
    {
     "name": "stderr",
     "output_type": "stream",
     "text": [
      "\u001b[32m[I 2022-02-22 09:02:25,447]\u001b[0m A new study created in memory with name: no-name-f58a1e28-bcb0-44ea-96ba-b10d4a1ad17c\u001b[0m\n",
      "\u001b[32m[I 2022-02-22 09:02:34,286]\u001b[0m Trial 0 finished with value: 0.3165 and parameters: {'reduce_dim': False, 'classifier': 'svc', 'svc_c': 348352, 'svc_degree': 6, 'svc_gamma': 1.584276350412195}. Best is trial 0 with value: 0.3165.\u001b[0m\n",
      "\u001b[32m[I 2022-02-22 09:02:42,873]\u001b[0m Trial 1 finished with value: 0.3165 and parameters: {'reduce_dim': False, 'classifier': 'svc', 'svc_c': 72075061, 'svc_degree': 5, 'svc_gamma': 5.192890211581476}. Best is trial 0 with value: 0.3165.\u001b[0m\n",
      "\u001b[32m[I 2022-02-22 09:02:51,467]\u001b[0m Trial 2 finished with value: 0.3165 and parameters: {'reduce_dim': False, 'classifier': 'svc', 'svc_c': 93966777, 'svc_degree': 8, 'svc_gamma': 9.107714509108611}. Best is trial 0 with value: 0.3165.\u001b[0m\n",
      "\u001b[32m[I 2022-02-22 09:03:00,095]\u001b[0m Trial 3 finished with value: 0.3165 and parameters: {'reduce_dim': False, 'classifier': 'svc', 'svc_c': 5955582, 'svc_degree': 9, 'svc_gamma': 2.155491484603076}. Best is trial 0 with value: 0.3165.\u001b[0m\n",
      "\u001b[32m[I 2022-02-22 09:03:09,096]\u001b[0m Trial 4 finished with value: 0.3165 and parameters: {'reduce_dim': True, 'num_dim': 241, 'classifier': 'svc', 'svc_c': 26304347, 'svc_degree': 11, 'svc_gamma': 1.494049516879071}. Best is trial 0 with value: 0.3165.\u001b[0m\n",
      "\u001b[32m[I 2022-02-22 09:03:17,727]\u001b[0m Trial 5 finished with value: 0.3165 and parameters: {'reduce_dim': False, 'classifier': 'svc', 'svc_c': 79724014, 'svc_degree': 9, 'svc_gamma': 3.9725780150116377}. Best is trial 0 with value: 0.3165.\u001b[0m\n",
      "\u001b[32m[I 2022-02-22 09:03:27,294]\u001b[0m Trial 6 finished with value: 0.3165 and parameters: {'reduce_dim': False, 'classifier': 'svc', 'svc_c': 32316680, 'svc_degree': 2, 'svc_gamma': 0.8284363378625482}. Best is trial 0 with value: 0.3165.\u001b[0m\n",
      "\u001b[32m[I 2022-02-22 09:03:39,388]\u001b[0m Trial 7 finished with value: 0.3165 and parameters: {'reduce_dim': True, 'num_dim': 366, 'classifier': 'svc', 'svc_c': 79491624, 'svc_degree': 10, 'svc_gamma': 7.306650318659462}. Best is trial 0 with value: 0.3165.\u001b[0m\n",
      "\u001b[32m[I 2022-02-22 09:03:48,524]\u001b[0m Trial 8 finished with value: 0.3165 and parameters: {'reduce_dim': False, 'classifier': 'svc', 'svc_c': 59317774, 'svc_degree': 7, 'svc_gamma': 1.3596026420980698}. Best is trial 0 with value: 0.3165.\u001b[0m\n",
      "\u001b[32m[I 2022-02-22 09:03:57,254]\u001b[0m Trial 9 finished with value: 0.3165 and parameters: {'reduce_dim': False, 'classifier': 'svc', 'svc_c': 39308069, 'svc_degree': 6, 'svc_gamma': 4.136630648412228}. Best is trial 0 with value: 0.3165.\u001b[0m\n",
      "\u001b[32m[I 2022-02-22 09:04:01,605]\u001b[0m Trial 10 finished with value: 0.3165 and parameters: {'reduce_dim': True, 'num_dim': 67, 'classifier': 'svc', 'svc_c': 1957086, 'svc_degree': 3, 'svc_gamma': 6.203344296059396}. Best is trial 0 with value: 0.3165.\u001b[0m\n",
      "\u001b[32m[I 2022-02-22 09:04:10,198]\u001b[0m Trial 11 finished with value: 0.3165 and parameters: {'reduce_dim': False, 'classifier': 'svc', 'svc_c': 63874658, 'svc_degree': 5, 'svc_gamma': 3.2782919991896398}. Best is trial 0 with value: 0.3165.\u001b[0m\n",
      "\u001b[32m[I 2022-02-22 09:04:18,772]\u001b[0m Trial 12 finished with value: 0.3165 and parameters: {'reduce_dim': False, 'classifier': 'svc', 'svc_c': 18720677, 'svc_degree': 4, 'svc_gamma': 5.771118211500725}. Best is trial 0 with value: 0.3165.\u001b[0m\n",
      "\u001b[32m[I 2022-02-22 09:04:27,350]\u001b[0m Trial 13 finished with value: 0.3165 and parameters: {'reduce_dim': False, 'classifier': 'svc', 'svc_c': 51312116, 'svc_degree': 6, 'svc_gamma': 7.6154248588262465}. Best is trial 0 with value: 0.3165.\u001b[0m\n",
      "\u001b[32m[I 2022-02-22 09:04:38,950]\u001b[0m Trial 14 finished with value: 0.3165 and parameters: {'reduce_dim': True, 'num_dim': 501, 'classifier': 'svc', 'svc_c': 99626788, 'svc_degree': 4, 'svc_gamma': 0.11741663455977425}. Best is trial 0 with value: 0.3165.\u001b[0m\n",
      "\u001b[32m[I 2022-02-22 09:04:47,541]\u001b[0m Trial 15 finished with value: 0.3165 and parameters: {'reduce_dim': False, 'classifier': 'svc', 'svc_c': 76236236, 'svc_degree': 7, 'svc_gamma': 3.0511688876241125}. Best is trial 0 with value: 0.3165.\u001b[0m\n",
      "\u001b[32m[I 2022-02-22 09:04:56,124]\u001b[0m Trial 16 finished with value: 0.3165 and parameters: {'reduce_dim': False, 'classifier': 'svc', 'svc_c': 45561888, 'svc_degree': 5, 'svc_gamma': 5.170995299483875}. Best is trial 0 with value: 0.3165.\u001b[0m\n",
      "\u001b[32m[I 2022-02-22 09:05:06,599]\u001b[0m Trial 17 finished with value: 0.3165 and parameters: {'reduce_dim': True, 'num_dim': 503, 'classifier': 'svc', 'svc_c': 99070804, 'svc_degree': 3, 'svc_gamma': 0.3138245531336077}. Best is trial 0 with value: 0.3165.\u001b[0m\n",
      "\u001b[32m[I 2022-02-22 09:05:15,234]\u001b[0m Trial 18 finished with value: 0.3165 and parameters: {'reduce_dim': False, 'classifier': 'svc', 'svc_c': 11206551, 'svc_degree': 7, 'svc_gamma': 2.884415029870649}. Best is trial 0 with value: 0.3165.\u001b[0m\n",
      "\u001b[32m[I 2022-02-22 09:05:23,819]\u001b[0m Trial 19 finished with value: 0.3165 and parameters: {'reduce_dim': False, 'classifier': 'svc', 'svc_c': 42061695, 'svc_degree': 5, 'svc_gamma': 9.914157911241428}. Best is trial 0 with value: 0.3165.\u001b[0m\n",
      "\u001b[32m[I 2022-02-22 09:05:33,481]\u001b[0m Trial 20 finished with value: 0.3165 and parameters: {'reduce_dim': True, 'num_dim': 492, 'classifier': 'svc', 'svc_c': 17255077, 'svc_degree': 2, 'svc_gamma': 0.41270936415800563}. Best is trial 0 with value: 0.3165.\u001b[0m\n",
      "\u001b[32m[I 2022-02-22 09:05:42,939]\u001b[0m Trial 21 finished with value: 0.3165 and parameters: {'reduce_dim': True, 'num_dim': 284, 'classifier': 'svc', 'svc_c': 10850220, 'svc_degree': 8, 'svc_gamma': 2.342563358097985}. Best is trial 0 with value: 0.3165.\u001b[0m\n",
      "\u001b[32m[I 2022-02-22 09:05:51,584]\u001b[0m Trial 22 finished with value: 0.3165 and parameters: {'reduce_dim': False, 'classifier': 'svc', 'svc_c': 26728937, 'svc_degree': 6, 'svc_gamma': 9.982986116744474}. Best is trial 0 with value: 0.3165.\u001b[0m\n",
      "\u001b[32m[I 2022-02-22 09:05:55,548]\u001b[0m Trial 23 finished with value: 0.3165 and parameters: {'reduce_dim': True, 'num_dim': 38, 'classifier': 'svc', 'svc_c': 15738000, 'svc_degree': 2, 'svc_gamma': 7.6975984317477835}. Best is trial 0 with value: 0.3165.\u001b[0m\n",
      "\u001b[32m[I 2022-02-22 09:06:05,145]\u001b[0m Trial 24 finished with value: 0.3165 and parameters: {'reduce_dim': True, 'num_dim': 300, 'classifier': 'svc', 'svc_c': 2038868, 'svc_degree': 8, 'svc_gamma': 2.030493015728868}. Best is trial 0 with value: 0.3165.\u001b[0m\n",
      "\u001b[32m[I 2022-02-22 09:06:13,691]\u001b[0m Trial 25 finished with value: 0.3165 and parameters: {'reduce_dim': True, 'num_dim': 180, 'classifier': 'svc', 'svc_c': 22461752, 'svc_degree': 8, 'svc_gamma': 4.142086806882839}. Best is trial 0 with value: 0.3165.\u001b[0m\n",
      "\u001b[32m[I 2022-02-22 09:06:17,250]\u001b[0m Trial 26 finished with value: 0.3165 and parameters: {'reduce_dim': True, 'num_dim': 37, 'classifier': 'svc', 'svc_c': 28633673, 'svc_degree': 4, 'svc_gamma': 8.36255293758587}. Best is trial 0 with value: 0.3165.\u001b[0m\n",
      "\u001b[32m[I 2022-02-22 09:06:28,977]\u001b[0m Trial 27 finished with value: 0.3165 and parameters: {'reduce_dim': True, 'num_dim': 366, 'classifier': 'svc', 'svc_c': 2087460, 'svc_degree': 11, 'svc_gamma': 6.806466191196285}. Best is trial 0 with value: 0.3165.\u001b[0m\n",
      "\u001b[32m[I 2022-02-22 09:06:37,136]\u001b[0m Trial 28 finished with value: 0.3165 and parameters: {'reduce_dim': True, 'num_dim': 179, 'classifier': 'svc', 'svc_c': 8686029, 'svc_degree': 8, 'svc_gamma': 1.844094020829295}. Best is trial 0 with value: 0.3165.\u001b[0m\n",
      "\u001b[32m[I 2022-02-22 09:06:43,332]\u001b[0m Trial 29 finished with value: 0.3165 and parameters: {'reduce_dim': True, 'num_dim': 121, 'classifier': 'svc', 'svc_c': 32056334, 'svc_degree': 4, 'svc_gamma': 8.530327822017021}. Best is trial 0 with value: 0.3165.\u001b[0m\n",
      "\u001b[32m[I 2022-02-22 09:06:56,068]\u001b[0m Trial 30 finished with value: 0.3165 and parameters: {'reduce_dim': True, 'num_dim': 406, 'classifier': 'svc', 'svc_c': 8555, 'svc_degree': 11, 'svc_gamma': 6.540863609748471}. Best is trial 0 with value: 0.3165.\u001b[0m\n",
      "\u001b[32m[I 2022-02-22 09:07:03,360]\u001b[0m Trial 31 finished with value: 0.3165 and parameters: {'reduce_dim': True, 'num_dim': 157, 'classifier': 'svc', 'svc_c': 9860527, 'svc_degree': 10, 'svc_gamma': 8.605612799201966}. Best is trial 0 with value: 0.3165.\u001b[0m\n",
      "\u001b[32m[I 2022-02-22 09:07:10,427]\u001b[0m Trial 32 finished with value: 0.3165 and parameters: {'reduce_dim': True, 'num_dim': 154, 'classifier': 'svc', 'svc_c': 34313684, 'svc_degree': 10, 'svc_gamma': 6.864878597635}. Best is trial 0 with value: 0.3165.\u001b[0m\n"
     ]
    },
    {
     "name": "stderr",
     "output_type": "stream",
     "text": [
      "\u001b[32m[I 2022-02-22 09:07:16,165]\u001b[0m Trial 33 finished with value: 0.3165 and parameters: {'reduce_dim': True, 'num_dim': 111, 'classifier': 'svc', 'svc_c': 9993014, 'svc_degree': 9, 'svc_gamma': 5.764000596670672}. Best is trial 0 with value: 0.3165.\u001b[0m\n",
      "\u001b[32m[I 2022-02-22 09:07:25,425]\u001b[0m Trial 34 finished with value: 0.3165 and parameters: {'reduce_dim': True, 'num_dim': 426, 'classifier': 'svc', 'svc_c': 346970, 'svc_degree': 10, 'svc_gamma': 8.679790725058968}. Best is trial 0 with value: 0.3165.\u001b[0m\n",
      "\u001b[32m[I 2022-02-22 09:07:34,856]\u001b[0m Trial 35 finished with value: 0.3165 and parameters: {'reduce_dim': False, 'classifier': 'svc', 'svc_c': 15910470, 'svc_degree': 3, 'svc_gamma': 1.0940431140410958}. Best is trial 0 with value: 0.3165.\u001b[0m\n",
      "\u001b[32m[I 2022-02-22 09:07:43,564]\u001b[0m Trial 36 finished with value: 0.3165 and parameters: {'reduce_dim': False, 'classifier': 'svc', 'svc_c': 22249743, 'svc_degree': 6, 'svc_gamma': 2.538835533431125}. Best is trial 0 with value: 0.3165.\u001b[0m\n",
      "\u001b[32m[I 2022-02-22 09:07:53,105]\u001b[0m Trial 37 finished with value: 0.3165 and parameters: {'reduce_dim': False, 'classifier': 'svc', 'svc_c': 24955404, 'svc_degree': 7, 'svc_gamma': 0.6792361998377314}. Best is trial 0 with value: 0.3165.\u001b[0m\n",
      "\u001b[32m[I 2022-02-22 09:08:01,806]\u001b[0m Trial 38 finished with value: 0.3165 and parameters: {'reduce_dim': False, 'classifier': 'svc', 'svc_c': 14993283, 'svc_degree': 6, 'svc_gamma': 9.874666369439954}. Best is trial 0 with value: 0.3165.\u001b[0m\n",
      "\u001b[32m[I 2022-02-22 09:08:10,510]\u001b[0m Trial 39 finished with value: 0.3165 and parameters: {'reduce_dim': False, 'classifier': 'svc', 'svc_c': 6933319, 'svc_degree': 8, 'svc_gamma': 9.289515234013173}. Best is trial 0 with value: 0.3165.\u001b[0m\n",
      "\u001b[32m[I 2022-02-22 09:08:19,194]\u001b[0m Trial 40 finished with value: 0.3165 and parameters: {'reduce_dim': False, 'classifier': 'svc', 'svc_c': 88504630, 'svc_degree': 9, 'svc_gamma': 7.420274264295983}. Best is trial 0 with value: 0.3165.\u001b[0m\n",
      "\u001b[32m[I 2022-02-22 09:08:28,153]\u001b[0m Trial 41 finished with value: 0.3165 and parameters: {'reduce_dim': True, 'num_dim': 233, 'classifier': 'svc', 'svc_c': 21537096, 'svc_degree': 8, 'svc_gamma': 4.579724083526839}. Best is trial 0 with value: 0.3165.\u001b[0m\n",
      "\u001b[32m[I 2022-02-22 09:08:31,530]\u001b[0m Trial 42 finished with value: 0.3165 and parameters: {'reduce_dim': True, 'num_dim': 40, 'classifier': 'svc', 'svc_c': 29165940, 'svc_degree': 2, 'svc_gamma': 8.027240008750434}. Best is trial 0 with value: 0.3165.\u001b[0m\n",
      "\u001b[32m[I 2022-02-22 09:08:35,926]\u001b[0m Trial 43 finished with value: 0.3165 and parameters: {'reduce_dim': True, 'num_dim': 74, 'classifier': 'svc', 'svc_c': 5222910, 'svc_degree': 3, 'svc_gamma': 3.6856576800312517}. Best is trial 0 with value: 0.3165.\u001b[0m\n",
      "\u001b[32m[I 2022-02-22 09:08:47,289]\u001b[0m Trial 44 finished with value: 0.3165 and parameters: {'reduce_dim': True, 'num_dim': 325, 'classifier': 'svc', 'svc_c': 4535900, 'svc_degree': 9, 'svc_gamma': 1.7655928195668338}. Best is trial 0 with value: 0.3165.\u001b[0m\n",
      "\u001b[32m[I 2022-02-22 09:08:57,833]\u001b[0m Trial 45 finished with value: 0.3165 and parameters: {'reduce_dim': True, 'num_dim': 316, 'classifier': 'svc', 'svc_c': 51903374, 'svc_degree': 11, 'svc_gamma': 4.8666122805985905}. Best is trial 0 with value: 0.3165.\u001b[0m\n",
      "\u001b[32m[I 2022-02-22 09:09:07,474]\u001b[0m Trial 46 finished with value: 0.3165 and parameters: {'reduce_dim': True, 'num_dim': 223, 'classifier': 'svc', 'svc_c': 8066067, 'svc_degree': 7, 'svc_gamma': 1.6099151776761258}. Best is trial 0 with value: 0.3165.\u001b[0m\n",
      "\u001b[32m[I 2022-02-22 09:09:15,450]\u001b[0m Trial 47 finished with value: 0.3165 and parameters: {'reduce_dim': True, 'num_dim': 178, 'classifier': 'svc', 'svc_c': 35613142, 'svc_degree': 4, 'svc_gamma': 5.8170599043344575}. Best is trial 0 with value: 0.3165.\u001b[0m\n",
      "\u001b[32m[I 2022-02-22 09:09:20,716]\u001b[0m Trial 48 finished with value: 0.3165 and parameters: {'reduce_dim': True, 'num_dim': 114, 'classifier': 'svc', 'svc_c': 29541576, 'svc_degree': 4, 'svc_gamma': 8.241443456262601}. Best is trial 0 with value: 0.3165.\u001b[0m\n",
      "\u001b[32m[I 2022-02-22 09:09:26,323]\u001b[0m Trial 49 finished with value: 0.3165 and parameters: {'reduce_dim': True, 'num_dim': 105, 'classifier': 'svc', 'svc_c': 61905601, 'svc_degree': 5, 'svc_gamma': 9.253976407464895}. Best is trial 0 with value: 0.3165.\u001b[0m\n",
      "\u001b[32m[I 2022-02-22 09:09:39,198]\u001b[0m Trial 50 finished with value: 0.3165 and parameters: {'reduce_dim': True, 'num_dim': 397, 'classifier': 'svc', 'svc_c': 1057080, 'svc_degree': 11, 'svc_gamma': 6.25210636453088}. Best is trial 0 with value: 0.3165.\u001b[0m\n",
      "\u001b[32m[I 2022-02-22 09:09:48,299]\u001b[0m Trial 51 finished with value: 0.3165 and parameters: {'reduce_dim': True, 'num_dim': 439, 'classifier': 'svc', 'svc_c': 12162805, 'svc_degree': 10, 'svc_gamma': 6.854286739555783}. Best is trial 0 with value: 0.3165.\u001b[0m\n",
      "\u001b[32m[I 2022-02-22 09:09:55,269]\u001b[0m Trial 52 finished with value: 0.3165 and parameters: {'reduce_dim': True, 'num_dim': 167, 'classifier': 'svc', 'svc_c': 36233859, 'svc_degree': 10, 'svc_gamma': 8.613557852540437}. Best is trial 0 with value: 0.3165.\u001b[0m\n",
      "\u001b[32m[I 2022-02-22 09:10:03,531]\u001b[0m Trial 53 finished with value: 0.3165 and parameters: {'reduce_dim': True, 'num_dim': 202, 'classifier': 'svc', 'svc_c': 56794575, 'svc_degree': 10, 'svc_gamma': 7.121515763172541}. Best is trial 0 with value: 0.3165.\u001b[0m\n",
      "\u001b[32m[I 2022-02-22 09:10:10,178]\u001b[0m Trial 54 finished with value: 0.3165 and parameters: {'reduce_dim': True, 'num_dim': 127, 'classifier': 'svc', 'svc_c': 11355290, 'svc_degree': 9, 'svc_gamma': 6.213666176935963}. Best is trial 0 with value: 0.3165.\u001b[0m\n",
      "\u001b[32m[I 2022-02-22 09:10:16,464]\u001b[0m Trial 55 finished with value: 0.3165 and parameters: {'reduce_dim': True, 'num_dim': 142, 'classifier': 'svc', 'svc_c': 44463123, 'svc_degree': 11, 'svc_gamma': 5.3964255234046075}. Best is trial 0 with value: 0.3165.\u001b[0m\n",
      "\u001b[32m[I 2022-02-22 09:10:25,410]\u001b[0m Trial 56 finished with value: 0.3165 and parameters: {'reduce_dim': True, 'num_dim': 437, 'classifier': 'svc', 'svc_c': 282338, 'svc_degree': 10, 'svc_gamma': 5.640452398114145}. Best is trial 0 with value: 0.3165.\u001b[0m\n",
      "\u001b[32m[I 2022-02-22 09:10:35,636]\u001b[0m Trial 57 finished with value: 0.3165 and parameters: {'reduce_dim': True, 'num_dim': 264, 'classifier': 'svc', 'svc_c': 6223709, 'svc_degree': 10, 'svc_gamma': 8.891397526482143}. Best is trial 0 with value: 0.3165.\u001b[0m\n",
      "\u001b[32m[I 2022-02-22 09:10:44,976]\u001b[0m Trial 58 finished with value: 0.3165 and parameters: {'reduce_dim': False, 'classifier': 'svc', 'svc_c': 18677772, 'svc_degree': 9, 'svc_gamma': 1.0950634725188564}. Best is trial 0 with value: 0.3165.\u001b[0m\n",
      "\u001b[32m[I 2022-02-22 09:10:54,075]\u001b[0m Trial 59 finished with value: 0.3165 and parameters: {'reduce_dim': False, 'classifier': 'svc', 'svc_c': 14447030, 'svc_degree': 10, 'svc_gamma': 1.2660171842588028}. Best is trial 0 with value: 0.3165.\u001b[0m\n",
      "\u001b[32m[I 2022-02-22 09:11:02,712]\u001b[0m Trial 60 finished with value: 0.3165 and parameters: {'reduce_dim': False, 'classifier': 'svc', 'svc_c': 20494582, 'svc_degree': 6, 'svc_gamma': 2.4257963738806394}. Best is trial 0 with value: 0.3165.\u001b[0m\n",
      "\u001b[32m[I 2022-02-22 09:11:12,221]\u001b[0m Trial 61 finished with value: 0.3165 and parameters: {'reduce_dim': False, 'classifier': 'svc', 'svc_c': 24744118, 'svc_degree': 7, 'svc_gamma': 0.8256997538591376}. Best is trial 0 with value: 0.3165.\u001b[0m\n",
      "\u001b[32m[I 2022-02-22 09:11:21,709]\u001b[0m Trial 62 finished with value: 0.3165 and parameters: {'reduce_dim': False, 'classifier': 'svc', 'svc_c': 16549931, 'svc_degree': 6, 'svc_gamma': 0.8531833287828129}. Best is trial 0 with value: 0.3165.\u001b[0m\n",
      "\u001b[32m[I 2022-02-22 09:11:30,971]\u001b[0m Trial 63 finished with value: 0.3165 and parameters: {'reduce_dim': False, 'classifier': 'svc', 'svc_c': 13674349, 'svc_degree': 5, 'svc_gamma': 0.5711554647460213}. Best is trial 0 with value: 0.3165.\u001b[0m\n",
      "\u001b[32m[I 2022-02-22 09:11:39,552]\u001b[0m Trial 64 finished with value: 0.3165 and parameters: {'reduce_dim': False, 'classifier': 'svc', 'svc_c': 23630929, 'svc_degree': 6, 'svc_gamma': 9.441920504783242}. Best is trial 0 with value: 0.3165.\u001b[0m\n",
      "\u001b[32m[I 2022-02-22 09:11:48,127]\u001b[0m Trial 65 finished with value: 0.3165 and parameters: {'reduce_dim': False, 'classifier': 'svc', 'svc_c': 4874184, 'svc_degree': 7, 'svc_gamma': 9.569400710388347}. Best is trial 0 with value: 0.3165.\u001b[0m\n"
     ]
    },
    {
     "name": "stderr",
     "output_type": "stream",
     "text": [
      "\u001b[32m[I 2022-02-22 09:11:56,731]\u001b[0m Trial 66 finished with value: 0.3165 and parameters: {'reduce_dim': False, 'classifier': 'svc', 'svc_c': 86507267, 'svc_degree': 7, 'svc_gamma': 2.787105869068323}. Best is trial 0 with value: 0.3165.\u001b[0m\n",
      "\u001b[32m[I 2022-02-22 09:12:05,524]\u001b[0m Trial 67 finished with value: 0.3165 and parameters: {'reduce_dim': False, 'classifier': 'svc', 'svc_c': 86471768, 'svc_degree': 8, 'svc_gamma': 0.29470836506188675}. Best is trial 0 with value: 0.3165.\u001b[0m\n",
      "\u001b[32m[I 2022-02-22 09:12:14,098]\u001b[0m Trial 68 finished with value: 0.3165 and parameters: {'reduce_dim': False, 'classifier': 'svc', 'svc_c': 71641040, 'svc_degree': 8, 'svc_gamma': 4.647111794009515}. Best is trial 0 with value: 0.3165.\u001b[0m\n",
      "\u001b[32m[I 2022-02-22 09:12:22,700]\u001b[0m Trial 69 finished with value: 0.3165 and parameters: {'reduce_dim': False, 'classifier': 'svc', 'svc_c': 20780520, 'svc_degree': 7, 'svc_gamma': 3.3658999631470294}. Best is trial 0 with value: 0.3165.\u001b[0m\n",
      "\u001b[32m[I 2022-02-22 09:12:31,295]\u001b[0m Trial 70 finished with value: 0.3165 and parameters: {'reduce_dim': False, 'classifier': 'svc', 'svc_c': 67840672, 'svc_degree': 9, 'svc_gamma': 8.095875169490762}. Best is trial 0 with value: 0.3165.\u001b[0m\n",
      "\u001b[32m[I 2022-02-22 09:12:39,411]\u001b[0m Trial 71 finished with value: 0.3165 and parameters: {'reduce_dim': True, 'num_dim': 226, 'classifier': 'svc', 'svc_c': 51978282, 'svc_degree': 5, 'svc_gamma': 4.721641346639066}. Best is trial 0 with value: 0.3165.\u001b[0m\n",
      "\u001b[32m[I 2022-02-22 09:12:48,055]\u001b[0m Trial 72 finished with value: 0.3165 and parameters: {'reduce_dim': True, 'num_dim': 201, 'classifier': 'svc', 'svc_c': 36354740, 'svc_degree': 4, 'svc_gamma': 6.138724400788725}. Best is trial 0 with value: 0.3165.\u001b[0m\n",
      "\u001b[32m[I 2022-02-22 09:12:53,817]\u001b[0m Trial 73 finished with value: 0.3165 and parameters: {'reduce_dim': True, 'num_dim': 103, 'classifier': 'svc', 'svc_c': 41037229, 'svc_degree': 4, 'svc_gamma': 9.006942774013954}. Best is trial 0 with value: 0.3165.\u001b[0m\n",
      "\u001b[32m[I 2022-02-22 09:13:03,283]\u001b[0m Trial 74 finished with value: 0.3165 and parameters: {'reduce_dim': True, 'num_dim': 459, 'classifier': 'svc', 'svc_c': 64133717, 'svc_degree': 5, 'svc_gamma': 7.234245544039619}. Best is trial 0 with value: 0.3165.\u001b[0m\n",
      "\u001b[32m[I 2022-02-22 09:13:11,072]\u001b[0m Trial 75 finished with value: 0.3165 and parameters: {'reduce_dim': True, 'num_dim': 192, 'classifier': 'svc', 'svc_c': 57868231, 'svc_degree': 11, 'svc_gamma': 6.999496956479183}. Best is trial 0 with value: 0.3165.\u001b[0m\n",
      "\u001b[32m[I 2022-02-22 09:13:17,172]\u001b[0m Trial 76 finished with value: 0.3165 and parameters: {'reduce_dim': True, 'num_dim': 130, 'classifier': 'svc', 'svc_c': 46022916, 'svc_degree': 11, 'svc_gamma': 6.559783076026694}. Best is trial 0 with value: 0.3165.\u001b[0m\n",
      "\u001b[32m[I 2022-02-22 09:13:22,011]\u001b[0m Trial 77 finished with value: 0.3165 and parameters: {'reduce_dim': True, 'num_dim': 98, 'classifier': 'svc', 'svc_c': 55280123, 'svc_degree': 10, 'svc_gamma': 7.852022832571308}. Best is trial 0 with value: 0.3165.\u001b[0m\n",
      "\u001b[32m[I 2022-02-22 09:13:29,024]\u001b[0m Trial 78 finished with value: 0.3165 and parameters: {'reduce_dim': True, 'num_dim': 150, 'classifier': 'svc', 'svc_c': 46930871, 'svc_degree': 11, 'svc_gamma': 5.295324850829782}. Best is trial 0 with value: 0.3165.\u001b[0m\n",
      "\u001b[32m[I 2022-02-22 09:13:38,607]\u001b[0m Trial 79 finished with value: 0.3165 and parameters: {'reduce_dim': True, 'num_dim': 459, 'classifier': 'svc', 'svc_c': 12483796, 'svc_degree': 10, 'svc_gamma': 5.489136380525471}. Best is trial 0 with value: 0.3165.\u001b[0m\n",
      "\u001b[32m[I 2022-02-22 09:13:48,031]\u001b[0m Trial 80 finished with value: 0.3165 and parameters: {'reduce_dim': True, 'num_dim': 258, 'classifier': 'svc', 'svc_c': 2767134, 'svc_degree': 10, 'svc_gamma': 4.318486374110215}. Best is trial 0 with value: 0.3165.\u001b[0m\n",
      "\u001b[32m[I 2022-02-22 09:13:56,659]\u001b[0m Trial 81 finished with value: 0.3165 and parameters: {'reduce_dim': True, 'num_dim': 282, 'classifier': 'svc', 'svc_c': 8257539, 'svc_degree': 9, 'svc_gamma': 5.995466656207577}. Best is trial 0 with value: 0.3165.\u001b[0m\n",
      "\u001b[32m[I 2022-02-22 09:14:07,182]\u001b[0m Trial 82 finished with value: 0.3165 and parameters: {'reduce_dim': True, 'num_dim': 255, 'classifier': 'svc', 'svc_c': 17912065, 'svc_degree': 10, 'svc_gamma': 1.2207960205404074}. Best is trial 0 with value: 0.3165.\u001b[0m\n",
      "\u001b[32m[I 2022-02-22 09:14:15,637]\u001b[0m Trial 83 finished with value: 0.3165 and parameters: {'reduce_dim': True, 'num_dim': 212, 'classifier': 'svc', 'svc_c': 5999469, 'svc_degree': 10, 'svc_gamma': 5.450083323063525}. Best is trial 0 with value: 0.3165.\u001b[0m\n",
      "\u001b[32m[I 2022-02-22 09:14:24,395]\u001b[0m Trial 84 finished with value: 0.3165 and parameters: {'reduce_dim': False, 'classifier': 'svc', 'svc_c': 20421338, 'svc_degree': 9, 'svc_gamma': 2.248764222047686}. Best is trial 0 with value: 0.3165.\u001b[0m\n",
      "\u001b[32m[I 2022-02-22 09:14:33,409]\u001b[0m Trial 85 finished with value: 0.3165 and parameters: {'reduce_dim': False, 'classifier': 'svc', 'svc_c': 9942531, 'svc_degree': 9, 'svc_gamma': 1.5069297737738652}. Best is trial 0 with value: 0.3165.\u001b[0m\n",
      "\u001b[32m[I 2022-02-22 09:14:42,976]\u001b[0m Trial 86 finished with value: 0.3165 and parameters: {'reduce_dim': False, 'classifier': 'svc', 'svc_c': 18736699, 'svc_degree': 6, 'svc_gamma': 0.9610097556911109}. Best is trial 0 with value: 0.3165.\u001b[0m\n",
      "\u001b[32m[I 2022-02-22 09:14:52,592]\u001b[0m Trial 87 finished with value: 0.3165 and parameters: {'reduce_dim': False, 'classifier': 'svc', 'svc_c': 14998207, 'svc_degree': 6, 'svc_gamma': 0.8433738722396928}. Best is trial 0 with value: 0.3165.\u001b[0m\n",
      "\u001b[32m[I 2022-02-22 09:15:02,001]\u001b[0m Trial 88 finished with value: 0.3165 and parameters: {'reduce_dim': False, 'classifier': 'svc', 'svc_c': 14009470, 'svc_degree': 6, 'svc_gamma': 0.5881415114358526}. Best is trial 0 with value: 0.3165.\u001b[0m\n",
      "\u001b[32m[I 2022-02-22 09:15:12,019]\u001b[0m Trial 89 finished with value: 0.3165 and parameters: {'reduce_dim': False, 'classifier': 'svc', 'svc_c': 3702275, 'svc_degree': 5, 'svc_gamma': 0.13317709741739137}. Best is trial 0 with value: 0.3165.\u001b[0m\n",
      "\u001b[32m[I 2022-02-22 09:15:21,172]\u001b[0m Trial 90 finished with value: 0.3165 and parameters: {'reduce_dim': False, 'classifier': 'svc', 'svc_c': 24006043, 'svc_degree': 6, 'svc_gamma': 1.3142867674280594}. Best is trial 0 with value: 0.3165.\u001b[0m\n",
      "\u001b[32m[I 2022-02-22 09:15:29,849]\u001b[0m Trial 91 finished with value: 0.3165 and parameters: {'reduce_dim': False, 'classifier': 'svc', 'svc_c': 25286602, 'svc_degree': 7, 'svc_gamma': 9.528150401028268}. Best is trial 0 with value: 0.3165.\u001b[0m\n",
      "\u001b[32m[I 2022-02-22 09:15:38,610]\u001b[0m Trial 92 finished with value: 0.3165 and parameters: {'reduce_dim': False, 'classifier': 'svc', 'svc_c': 17378592, 'svc_degree': 7, 'svc_gamma': 2.010879603503269}. Best is trial 0 with value: 0.3165.\u001b[0m\n",
      "\u001b[32m[I 2022-02-22 09:15:47,460]\u001b[0m Trial 93 finished with value: 0.3165 and parameters: {'reduce_dim': False, 'classifier': 'svc', 'svc_c': 13864872, 'svc_degree': 6, 'svc_gamma': 1.7527333754652634}. Best is trial 0 with value: 0.3165.\u001b[0m\n",
      "\u001b[32m[I 2022-02-22 09:15:56,377]\u001b[0m Trial 94 finished with value: 0.3165 and parameters: {'reduce_dim': False, 'classifier': 'svc', 'svc_c': 86217545, 'svc_degree': 7, 'svc_gamma': 0.3435122803319812}. Best is trial 0 with value: 0.3165.\u001b[0m\n",
      "\u001b[32m[I 2022-02-22 09:16:05,044]\u001b[0m Trial 95 finished with value: 0.3165 and parameters: {'reduce_dim': False, 'classifier': 'svc', 'svc_c': 78520464, 'svc_degree': 8, 'svc_gamma': 3.188095204263374}. Best is trial 0 with value: 0.3165.\u001b[0m\n",
      "\u001b[32m[I 2022-02-22 09:16:13,701]\u001b[0m Trial 96 finished with value: 0.3165 and parameters: {'reduce_dim': False, 'classifier': 'svc', 'svc_c': 85033695, 'svc_degree': 7, 'svc_gamma': 3.453595322480359}. Best is trial 0 with value: 0.3165.\u001b[0m\n",
      "\u001b[32m[I 2022-02-22 09:16:23,170]\u001b[0m Trial 97 finished with value: 0.3165 and parameters: {'reduce_dim': False, 'classifier': 'svc', 'svc_c': 95353655, 'svc_degree': 8, 'svc_gamma': 0.6572528209612973}. Best is trial 0 with value: 0.3165.\u001b[0m\n",
      "\u001b[32m[I 2022-02-22 09:16:31,846]\u001b[0m Trial 98 finished with value: 0.3165 and parameters: {'reduce_dim': False, 'classifier': 'svc', 'svc_c': 70285232, 'svc_degree': 8, 'svc_gamma': 2.8386873884335926}. Best is trial 0 with value: 0.3165.\u001b[0m\n"
     ]
    },
    {
     "name": "stderr",
     "output_type": "stream",
     "text": [
      "\u001b[32m[I 2022-02-22 09:16:40,500]\u001b[0m Trial 99 finished with value: 0.3165 and parameters: {'reduce_dim': False, 'classifier': 'svc', 'svc_c': 73281661, 'svc_degree': 5, 'svc_gamma': 3.8593425567896196}. Best is trial 0 with value: 0.3165.\u001b[0m\n"
     ]
    }
   ],
   "source": [
    "study = optuna.create_study(direction='maximize')\n",
    "study.optimize(objective, n_trials=100)"
   ]
  },
  {
   "cell_type": "code",
   "execution_count": 150,
   "id": "9501d4b5",
   "metadata": {},
   "outputs": [
    {
     "data": {
      "text/plain": [
       "{'reduce_dim': False,\n",
       " 'classifier': 'mlp',\n",
       " 'mlp_alpha': 2.806686364718306,\n",
       " 'mlp_hidden_layer_sizes': 680,\n",
       " 'mlp_validation_fraction': 0.02731453594179662}"
      ]
     },
     "execution_count": 150,
     "metadata": {},
     "output_type": "execute_result"
    }
   ],
   "source": [
    "study.best_params"
   ]
  },
  {
   "cell_type": "markdown",
   "id": "2406c700",
   "metadata": {},
   "source": [
    "## Sklearn models with crossvalidation"
   ]
  },
  {
   "cell_type": "code",
   "execution_count": 138,
   "id": "8489d357",
   "metadata": {},
   "outputs": [],
   "source": [
    "train_valid_df = pd.concat([train_df, val_df]) # concat the train and validation set, we will be using the k fold method later\n",
    "X_train_valid = [literal_eval(embedding) for embedding in train_valid_df['embeddings'].values]\n",
    "y_train_valid = train_valid_df['label'].values"
   ]
  },
  {
   "cell_type": "code",
   "execution_count": 139,
   "id": "1a61822f",
   "metadata": {},
   "outputs": [],
   "source": [
    "X_train_valid_scaled = scaler.transform(X_train_valid)"
   ]
  },
  {
   "cell_type": "code",
   "execution_count": 140,
   "id": "14786d73",
   "metadata": {},
   "outputs": [],
   "source": [
    "Fold = StratifiedKFold(n_splits = 5, shuffle = True, random_state = 42)"
   ]
  },
  {
   "cell_type": "code",
   "execution_count": 151,
   "id": "7d811318",
   "metadata": {},
   "outputs": [],
   "source": [
    "def objective_cv(trial):\n",
    "    global best_score\n",
    "    params = {\n",
    "        \"alpha\": trial.suggest_float('alpha', 1e-10, 10),\n",
    "        \"hidden_layer_sizes\": trial.suggest_int('hidden_layer_sizes', 256, 2048),\n",
    "        \"validation_fraction\": trial.suggest_float('mlp_validation_fraction', 0.01, 0.2),\n",
    "    }\n",
    "    \n",
    "    # optional PCA\n",
    "    X_train_valid_scaled_reduced = X_train_valid_scaled\n",
    "    X_test_scaled_reduced = X_test_scaled\n",
    "    num_dim = 512\n",
    "    reduce_dim = trial.suggest_categorical(\"reduce_dim\", [False, True])\n",
    "    if reduce_dim:\n",
    "        num_dim = trial.suggest_int(\"num_dim\", 64, 512)\n",
    "        pca = PCA(n_components=num_dim)\n",
    "        X_train_valid_scaled_reduced = pca.fit_transform(X_train_valid_scaled)\n",
    "        X_test_scaled_reduced = pca.transform(X_test_scaled)\n",
    "        \n",
    "    # kfold\n",
    "    f1_scores = []\n",
    "    models = []\n",
    "    for n, (trn_, val_) in tqdm(enumerate(Fold.split(X_train_valid_scaled_reduced, y_train_valid))):\n",
    "        \n",
    "        fold_train_data = X_train_valid_scaled_reduced[trn_]\n",
    "        fold_valid_data = X_train_valid_scaled_reduced[val_]\n",
    "        \n",
    "        fold_train_labels = y_train_valid[trn_]\n",
    "        fold_valid_labels = y_train_valid[val_]\n",
    "        model = MLPClassifier(**params)\n",
    "        model.fit(fold_train_data, fold_train_labels)\n",
    "        models.append(model)\n",
    "        \n",
    "        valid_pred = model.predict(fold_valid_data)\n",
    "        f1 = f1_score(fold_valid_labels, valid_pred, average ='weighted')\n",
    "        f1_scores.append(f1)\n",
    "\n",
    "    mean_valid_f1 = np.mean(f1_scores)\n",
    "    \n",
    "    # neptune and submission\n",
    "    if mean_valid_f1 > best_score:\n",
    "        print(\"SUBMISION, mean_valid_f1:\", mean_valid_f1)\n",
    "#         best_score = mean_valid_f1\n",
    "        run = neptune.init(\n",
    "            project=NEPTUNE_PROJECT,\n",
    "            api_token=NEPTUNE_API,\n",
    "            tags=[\"sentiment_classification\", \"mlp\", \"optuna\", \"crossval\"]\n",
    "        )\n",
    "        run[\"model\"] = \"mlp\"\n",
    "        run[\"parameters\"] = params\n",
    "        run[\"reduce_dim\"] = reduce_dim\n",
    "        run[\"num_dim\"] = num_dim\n",
    "        run[\"mean_valid_f1\"] = mean_valid_f1\n",
    "        run.stop()\n",
    "        \n",
    "        predictions = []\n",
    "        for model in models:\n",
    "            predictions.append(model.predict(X_test_scaled_reduced))\n",
    "        \n",
    "        y_test_pred = [\n",
    "            Counter([pred[i] for pred in predictions]).most_common(1)[0][0]\n",
    "            for i in range(len(X_test_scaled_reduced))\n",
    "        ]\n",
    "            \n",
    "        make_submission(y_test_pred)\n",
    "\n",
    "    return mean_valid_f1\n"
   ]
  },
  {
   "cell_type": "code",
   "execution_count": 152,
   "id": "8066b955",
   "metadata": {},
   "outputs": [],
   "source": [
    "best_score = 0.796"
   ]
  },
  {
   "cell_type": "code",
   "execution_count": 153,
   "id": "af437156",
   "metadata": {
    "scrolled": true
   },
   "outputs": [
    {
     "data": {
      "text/html": [
       "<pre style=\"white-space:pre;overflow-x:auto;line-height:normal;font-family:Menlo,'DejaVu Sans Mono',consolas,'Courier New',monospace\"><span style=\"color: #000080; text-decoration-color: #000080; font-weight: bold\">submission.zip</span> <span style=\"color: #f92672; text-decoration-color: #f92672\">━━━━━━━━━━━━━━━━━╸</span><span style=\"color: #3a3a3a; text-decoration-color: #3a3a3a\">━━━━━━━━━━━━━━━━━━━</span> <span style=\"color: #800080; text-decoration-color: #800080\">48.3%</span> • <span style=\"color: #008000; text-decoration-color: #008000\">6.6/13.7 MB</span> • <span style=\"color: #800000; text-decoration-color: #800000\">1.9 MB/s</span> • <span style=\"color: #008080; text-decoration-color: #008080\">0:00:04</span>\n",
       "</pre>\n"
      ],
      "text/plain": [
       "\u001b[1;34msubmission.zip\u001b[0m \u001b[38;2;249;38;114m━━━━━━━━━━━━━━━━━\u001b[0m\u001b[38;2;249;38;114m╸\u001b[0m\u001b[38;5;237m━━━━━━━━━━━━━━━━━━━\u001b[0m \u001b[35m48.3%\u001b[0m • \u001b[32m6.6/13.7 MB\u001b[0m • \u001b[31m1.9 MB/s\u001b[0m • \u001b[36m0:00:04\u001b[0m\n"
      ]
     },
     "metadata": {},
     "output_type": "display_data"
    }
   ],
   "source": [
    "study_cv = optuna.create_study(direction='maximize')\n",
    "study_cv.optimize(objective_cv, n_trials=40)"
   ]
  },
  {
   "cell_type": "code",
   "execution_count": null,
   "id": "3dda33b1",
   "metadata": {},
   "outputs": [],
   "source": []
  },
  {
   "cell_type": "code",
   "execution_count": null,
   "id": "31ab102a",
   "metadata": {},
   "outputs": [],
   "source": []
  },
  {
   "cell_type": "code",
   "execution_count": 336,
   "id": "1721bb28",
   "metadata": {},
   "outputs": [],
   "source": [
    "classifier = SVC(\n",
    "    C=20,\n",
    "    degree=5,\n",
    "    max_iter=-1,\n",
    "#     break_ties=True,\n",
    "#     tol=0.00001,\n",
    "#     probability=True,\n",
    "    gamma=0.0004,\n",
    "    random_state=42,\n",
    ").fit(X_train_scaled, y_train)"
   ]
  },
  {
   "cell_type": "code",
   "execution_count": 337,
   "id": "7f3acc90",
   "metadata": {},
   "outputs": [
    {
     "data": {
      "text/plain": [
       "0.972"
      ]
     },
     "execution_count": 337,
     "metadata": {},
     "output_type": "execute_result"
    }
   ],
   "source": [
    "classifier.score(X_train_scaled, y_train)"
   ]
  },
  {
   "cell_type": "code",
   "execution_count": 338,
   "id": "ce28c652",
   "metadata": {},
   "outputs": [
    {
     "data": {
      "text/plain": [
       "0.8065"
      ]
     },
     "execution_count": 338,
     "metadata": {},
     "output_type": "execute_result"
    }
   ],
   "source": [
    "classifier.score(X_valid_scaled, y_valid)"
   ]
  },
  {
   "cell_type": "markdown",
   "id": "5a26d28e",
   "metadata": {},
   "source": [
    "### Random Forest"
   ]
  },
  {
   "cell_type": "code",
   "execution_count": 105,
   "id": "e1f68eec",
   "metadata": {},
   "outputs": [],
   "source": [
    "classifier = RandomForestClassifier(\n",
    "    n_estimators = 200,\n",
    "    max_depth = 50,\n",
    "    min_samples_leaf = 20,\n",
    ").fit(X_train_scaled, y_train)"
   ]
  },
  {
   "cell_type": "code",
   "execution_count": 106,
   "id": "bc0591d8",
   "metadata": {},
   "outputs": [
    {
     "data": {
      "text/plain": [
       "0.8712"
      ]
     },
     "execution_count": 106,
     "metadata": {},
     "output_type": "execute_result"
    }
   ],
   "source": [
    "classifier.score(X_train_scaled, y_train)"
   ]
  },
  {
   "cell_type": "code",
   "execution_count": 107,
   "id": "47a0d2a6",
   "metadata": {},
   "outputs": [
    {
     "data": {
      "text/plain": [
       "0.6815"
      ]
     },
     "execution_count": 107,
     "metadata": {},
     "output_type": "execute_result"
    }
   ],
   "source": [
    "classifier.score(X_valid_scaled, y_valid)"
   ]
  },
  {
   "cell_type": "code",
   "execution_count": 117,
   "id": "0b234ef7",
   "metadata": {},
   "outputs": [],
   "source": [
    "predictions = []\n",
    "for model in [classifier, classifier, classifier]:\n",
    "    predictions.append(model.predict(X_valid_scaled))\n",
    "\n",
    "    y_test_pred = [\n",
    "        Counter([pred[i] for pred in predictions]).most_common(1)[0][0]\n",
    "        for i in range(len(X_valid_scaled))\n",
    "    ]"
   ]
  },
  {
   "cell_type": "code",
   "execution_count": 120,
   "id": "5cb567db",
   "metadata": {},
   "outputs": [],
   "source": [
    "# classifier.score(X_valid_scaled, y_test_pred) "
   ]
  },
  {
   "cell_type": "markdown",
   "id": "498d9689",
   "metadata": {},
   "source": [
    "### Neural Network"
   ]
  },
  {
   "cell_type": "code",
   "execution_count": 19,
   "id": "d9d70142",
   "metadata": {},
   "outputs": [],
   "source": [
    "X_train_valid_scaled = np.concatenate([X_train_scaled, X_valid_scaled])\n",
    "y_train_valid = np.concatenate([y_train, y_valid])"
   ]
  },
  {
   "cell_type": "code",
   "execution_count": 23,
   "id": "f84e108d",
   "metadata": {},
   "outputs": [
    {
     "name": "stderr",
     "output_type": "stream",
     "text": [
      "/mnt/ml-team/homes/paulina.knut/aicrowd/venv_pascal02/lib/python3.8/site-packages/sklearn/neural_network/_multilayer_perceptron.py:699: UserWarning: Training interrupted by user.\n",
      "  warnings.warn(\"Training interrupted by user.\")\n"
     ]
    }
   ],
   "source": [
    "classifier = MLPClassifier(\n",
    "    alpha = 0.5,\n",
    "    hidden_layer_sizes = 455,\n",
    "    early_stopping = True,\n",
    "    n_iter_no_change = 100,\n",
    "    max_iter = 1000,\n",
    "    validation_fraction = 0.02,\n",
    "    random_state=42,\n",
    "#     verbose =  True,\n",
    "# ).fit(X_train_scaled, y_train)\n",
    ").fit(X_train_valid_scaled, y_train_valid)"
   ]
  },
  {
   "cell_type": "code",
   "execution_count": 21,
   "id": "6d10659c",
   "metadata": {},
   "outputs": [
    {
     "data": {
      "text/plain": [
       "0.986"
      ]
     },
     "execution_count": 21,
     "metadata": {},
     "output_type": "execute_result"
    }
   ],
   "source": [
    "classifier.score(X_train_scaled, y_train)"
   ]
  },
  {
   "cell_type": "code",
   "execution_count": 22,
   "id": "d007fb85",
   "metadata": {},
   "outputs": [
    {
     "data": {
      "text/plain": [
       "0.992"
      ]
     },
     "execution_count": 22,
     "metadata": {},
     "output_type": "execute_result"
    }
   ],
   "source": [
    "classifier.score(X_valid_scaled, y_valid)"
   ]
  },
  {
   "cell_type": "markdown",
   "id": "fe6b474a",
   "metadata": {},
   "source": [
    "## Validation"
   ]
  },
  {
   "cell_type": "code",
   "execution_count": 25,
   "id": "f66acfcc",
   "metadata": {},
   "outputs": [
    {
     "name": "stdout",
     "output_type": "stream",
     "text": [
      "              precision    recall  f1-score   support\n",
      "\n",
      "    negative       0.99      0.99      0.99       640\n",
      "     neutral       0.99      0.99      0.99       633\n",
      "    positive       1.00      1.00      1.00       727\n",
      "\n",
      "    accuracy                           0.99      2000\n",
      "   macro avg       0.99      0.99      0.99      2000\n",
      "weighted avg       0.99      0.99      0.99      2000\n",
      "\n"
     ]
    }
   ],
   "source": [
    "y_valid_pred = classifier.predict(X_valid_scaled)\n",
    "print(classification_report(y_valid, y_valid_pred))"
   ]
  },
  {
   "cell_type": "code",
   "execution_count": 26,
   "id": "1f771788",
   "metadata": {},
   "outputs": [],
   "source": [
    "y_test_pred = classifier.predict(X_test_scaled)"
   ]
  },
  {
   "cell_type": "code",
   "execution_count": 27,
   "id": "1103b5f0",
   "metadata": {},
   "outputs": [],
   "source": [
    "submission = pd.DataFrame(\n",
    "    {\n",
    "        \"embeddings\": X_test_scaled.tolist(),\n",
    "        \"label\": y_test_pred,\n",
    "    }\n",
    ")"
   ]
  },
  {
   "cell_type": "markdown",
   "id": "59fe46d8",
   "metadata": {},
   "source": [
    "## Submission"
   ]
  },
  {
   "cell_type": "code",
   "execution_count": 28,
   "id": "2002e539",
   "metadata": {},
   "outputs": [],
   "source": [
    "submission.to_csv(os.path.join(\"assets\", \"submission.csv\"))"
   ]
  },
  {
   "cell_type": "code",
   "execution_count": 29,
   "id": "c6d9a223",
   "metadata": {},
   "outputs": [
    {
     "data": {
      "application/javascript": [
       "IPython.notebook.save_checkpoint();"
      ],
      "text/plain": [
       "<IPython.core.display.Javascript object>"
      ]
     },
     "metadata": {},
     "output_type": "display_data"
    },
    {
     "name": "stdout",
     "output_type": "stream",
     "text": [
      "Using notebook: sklearn_models.ipynb for submission...\n",
      "Removing existing files from submission directory...\n",
      "Scrubbing API keys from the notebook...\n",
      "Collecting notebook...\n"
     ]
    },
    {
     "data": {
      "application/vnd.jupyter.widget-view+json": {
       "model_id": "fb2c787ca1f34e2d9ff5b56f2f276644",
       "version_major": 2,
       "version_minor": 0
      },
      "text/plain": [
       "Output()"
      ]
     },
     "metadata": {},
     "output_type": "display_data"
    },
    {
     "name": "stderr",
     "output_type": "stream",
     "text": [
      "IOPub message rate exceeded.\n",
      "The notebook server will temporarily stop sending output\n",
      "to the client in order to avoid crashing it.\n",
      "To change this limit, set the config variable\n",
      "`--NotebookApp.iopub_msg_rate_limit`.\n",
      "\n",
      "Current values:\n",
      "NotebookApp.iopub_msg_rate_limit=1000.0 (msgs/sec)\n",
      "NotebookApp.rate_limit_window=3.0 (secs)\n",
      "\n"
     ]
    },
    {
     "data": {
      "text/html": [
       "<pre style=\"white-space:pre;overflow-x:auto;line-height:normal;font-family:Menlo,'DejaVu Sans Mono',consolas,'Courier New',monospace\"></pre>\n"
      ],
      "text/plain": []
     },
     "metadata": {},
     "output_type": "display_data"
    },
    {
     "data": {
      "text/html": [
       "<pre style=\"white-space:pre;overflow-x:auto;line-height:normal;font-family:Menlo,'DejaVu Sans Mono',consolas,'Courier New',monospace\">\n",
       "</pre>\n"
      ],
      "text/plain": [
       "\n"
      ]
     },
     "metadata": {},
     "output_type": "display_data"
    },
    {
     "data": {
      "text/html": [
       "<pre style=\"white-space:pre;overflow-x:auto;line-height:normal;font-family:Menlo,'DejaVu Sans Mono',consolas,'Courier New',monospace\">                                                       ╭─────────────────────────╮                                                       \n",
       "                                                       │ <span style=\"font-weight: bold\">Successfully submitted!</span> │                                                       \n",
       "                                                       ╰─────────────────────────╯                                                       \n",
       "</pre>\n"
      ],
      "text/plain": [
       "                                                       ╭─────────────────────────╮                                                       \n",
       "                                                       │ \u001b[1mSuccessfully submitted!\u001b[0m │                                                       \n",
       "                                                       ╰─────────────────────────╯                                                       \n"
      ]
     },
     "metadata": {},
     "output_type": "display_data"
    },
    {
     "data": {
      "text/html": [
       "<pre style=\"white-space:pre;overflow-x:auto;line-height:normal;font-family:Menlo,'DejaVu Sans Mono',consolas,'Courier New',monospace\"><span style=\"font-style: italic\">                                                             Important links                                                             </span>\n",
       "┌──────────────────┬────────────────────────────────────────────────────────────────────────────────────────────────────────────────────┐\n",
       "│  This submission │ https://www.aicrowd.com/challenges/ai-blitz-xiii/problems/sentiment-classification/submissions/174152              │\n",
       "│                  │                                                                                                                    │\n",
       "│  All submissions │ https://www.aicrowd.com/challenges/ai-blitz-xiii/problems/sentiment-classification/submissions?my_submissions=true │\n",
       "│                  │                                                                                                                    │\n",
       "│      Leaderboard │ https://www.aicrowd.com/challenges/ai-blitz-xiii/problems/sentiment-classification/leaderboards                    │\n",
       "│                  │                                                                                                                    │\n",
       "│ Discussion forum │ https://discourse.aicrowd.com/c/ai-blitz-xiii                                                                      │\n",
       "│                  │                                                                                                                    │\n",
       "│   Challenge page │ https://www.aicrowd.com/challenges/ai-blitz-xiii/problems/sentiment-classification                                 │\n",
       "└──────────────────┴────────────────────────────────────────────────────────────────────────────────────────────────────────────────────┘\n",
       "</pre>\n"
      ],
      "text/plain": [
       "\u001b[3m                                                             Important links                                                             \u001b[0m\n",
       "┌──────────────────┬────────────────────────────────────────────────────────────────────────────────────────────────────────────────────┐\n",
       "│  This submission │ https://www.aicrowd.com/challenges/ai-blitz-xiii/problems/sentiment-classification/submissions/174152              │\n",
       "│                  │                                                                                                                    │\n",
       "│  All submissions │ https://www.aicrowd.com/challenges/ai-blitz-xiii/problems/sentiment-classification/submissions?my_submissions=true │\n",
       "│                  │                                                                                                                    │\n",
       "│      Leaderboard │ https://www.aicrowd.com/challenges/ai-blitz-xiii/problems/sentiment-classification/leaderboards                    │\n",
       "│                  │                                                                                                                    │\n",
       "│ Discussion forum │ https://discourse.aicrowd.com/c/ai-blitz-xiii                                                                      │\n",
       "│                  │                                                                                                                    │\n",
       "│   Challenge page │ https://www.aicrowd.com/challenges/ai-blitz-xiii/problems/sentiment-classification                                 │\n",
       "└──────────────────┴────────────────────────────────────────────────────────────────────────────────────────────────────────────────────┘\n"
      ]
     },
     "metadata": {},
     "output_type": "display_data"
    }
   ],
   "source": [
    "%aicrowd notebook submit -c sentiment-classification -a assets --no-verify"
   ]
  },
  {
   "cell_type": "code",
   "execution_count": null,
   "id": "cc0cccfe",
   "metadata": {},
   "outputs": [],
   "source": []
  }
 ],
 "metadata": {
  "kernelspec": {
   "display_name": "Python 3 (ipykernel)",
   "language": "python",
   "name": "python3"
  },
  "language_info": {
   "codemirror_mode": {
    "name": "ipython",
    "version": 3
   },
   "file_extension": ".py",
   "mimetype": "text/x-python",
   "name": "python",
   "nbconvert_exporter": "python",
   "pygments_lexer": "ipython3",
   "version": "3.8.10"
  },
  "neptune": {
   "notebookId": "959d5782-2f1c-479e-8f72-ca6f351c8b40",
   "projectVersion": 2
  }
 },
 "nbformat": 4,
 "nbformat_minor": 5
}
