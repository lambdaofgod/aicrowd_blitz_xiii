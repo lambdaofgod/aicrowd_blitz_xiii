{
 "cells": [
  {
   "cell_type": "code",
   "execution_count": 1,
   "id": "643e277c-0096-4296-aab3-c3b37fa24abd",
   "metadata": {},
   "outputs": [],
   "source": [
    "import flash\n",
    "from flash.core.data.utils import download_data\n",
    "from flash.image import ObjectDetectionData, ObjectDetector\n",
    "from torch.utils.data.dataset import Dataset\n",
    "from torch.utils.data import DataLoader\n",
    "from icevision.core import ClassMap\n",
    "from flash.core.data.io.input import DataKeys\n",
    "import pandas as pd\n",
    "from pathlib import PosixPath\n",
    "from PIL import Image\n",
    "import os\n",
    "import albumentations as A\n",
    "from albumentations.pytorch.transforms import ToTensorV2\n",
    "import numpy as np"
   ]
  },
  {
   "cell_type": "code",
   "execution_count": 2,
   "id": "de0d7a2e-a357-4884-95b5-3694dc0daada",
   "metadata": {},
   "outputs": [],
   "source": [
    "train_images_root = '/home/konrad.czarnota/aicrowd/mask_detection/train'\n",
    "train_csv_path = '/home/konrad.czarnota/aicrowd/mask_detection/train.csv'\n",
    "val_images_root = '/home/konrad.czarnota/aicrowd/mask_detection/val'\n",
    "val_csv_path = '/home/konrad.czarnota/aicrowd/mask_detection/val.csv'\n",
    "test_images_root = '/home/konrad.czarnota/aicrowd/mask_detection/test'"
   ]
  },
  {
   "cell_type": "code",
   "execution_count": 3,
   "id": "aa58a73f-51c8-4ae8-b081-7438999b525c",
   "metadata": {},
   "outputs": [],
   "source": [
    "class MaskDataset:\n",
    "    \n",
    "    def __init__(\n",
    "        self,\n",
    "        images_root,\n",
    "        csv_file_path,\n",
    "    ) -> None:\n",
    "        self.images_root = images_root\n",
    "        self.csv_file_path = csv_file_path\n",
    "        \n",
    "        self.image_paths = []\n",
    "        self.bboxes = []\n",
    "        self.labels = []\n",
    "        df = pd.read_csv(self.csv_file_path)\n",
    "        for i, v in df.iterrows():\n",
    "            self.image_paths.append(os.path.join(self.images_root, v['ImageID'] + '.jpg'))\n",
    "            bbox = [int(i) for i in v['bbox'][1:-1].replace(',', '').split(' ')]\n",
    "            bbox = [{'xmin': bbox[0], 'ymin': bbox[1], 'width': bbox[2] - bbox[0], 'height': bbox[3] - bbox[1]}]\n",
    "            self.bboxes.append(bbox)\n",
    "            self.labels.append([v['masktype']])"
   ]
  },
  {
   "cell_type": "code",
   "execution_count": 4,
   "id": "11ef7a3e-6237-46cb-9f97-f78d125d42dc",
   "metadata": {},
   "outputs": [],
   "source": [
    "train_dataset = MaskDataset(train_images_root, train_csv_path)\n",
    "val_dataset = MaskDataset(val_images_root, val_csv_path)"
   ]
  },
  {
   "cell_type": "code",
   "execution_count": 5,
   "id": "cf9fb204-3c85-478a-a4a1-d3578d17821f",
   "metadata": {},
   "outputs": [],
   "source": [
    "datamodule = ObjectDetectionData.from_files(\n",
    "    train_files=train_dataset.image_paths,\n",
    "    train_targets=train_dataset.labels,\n",
    "    train_bboxes=train_dataset.bboxes,\n",
    "    val_files=val_dataset.image_paths,\n",
    "    val_targets=val_dataset.labels,\n",
    "    val_bboxes=val_dataset.bboxes,\n",
    "    transform_kwargs=dict(image_size=(512, 512)),\n",
    "    batch_size=16,\n",
    ")"
   ]
  },
  {
   "cell_type": "code",
   "execution_count": 7,
   "id": "3721b2d3-c056-45ab-955a-c0f7de0cfcfb",
   "metadata": {},
   "outputs": [
    {
     "data": {
      "text/plain": [
       "['adadelta',\n",
       " 'adagrad',\n",
       " 'adam',\n",
       " 'adamax',\n",
       " 'adamw',\n",
       " 'asgd',\n",
       " 'lbfgs',\n",
       " 'nadam',\n",
       " 'radam',\n",
       " 'rmsprop',\n",
       " 'rprop',\n",
       " 'sgd',\n",
       " 'sparseadam']"
      ]
     },
     "execution_count": 7,
     "metadata": {},
     "output_type": "execute_result"
    }
   ],
   "source": [
    "ObjectDetector.available_optimizers()"
   ]
  },
  {
   "cell_type": "code",
   "execution_count": 8,
   "id": "cc2508d7-3d77-4c44-8ea6-8a84d3826be2",
   "metadata": {},
   "outputs": [
    {
     "data": {
      "text/plain": [
       "['chainedscheduler',\n",
       " 'constantlr',\n",
       " 'cosineannealinglr',\n",
       " 'cosineannealingwarmrestarts',\n",
       " 'cycliclr',\n",
       " 'exponentiallr',\n",
       " 'lambdalr',\n",
       " 'linearlr',\n",
       " 'multiplicativelr',\n",
       " 'multisteplr',\n",
       " 'onecyclelr',\n",
       " 'reducelronplateau',\n",
       " 'sequentiallr',\n",
       " 'steplr']"
      ]
     },
     "execution_count": 8,
     "metadata": {},
     "output_type": "execute_result"
    }
   ],
   "source": [
    "ObjectDetector.available_lr_schedulers()"
   ]
  },
  {
   "cell_type": "code",
   "execution_count": 9,
   "id": "6c3ee0b7-5326-47b5-9858-f9e769ed97ab",
   "metadata": {},
   "outputs": [
    {
     "data": {
      "text/plain": [
       "{'efficientdet': ['d0',\n",
       "  'd1',\n",
       "  'd2',\n",
       "  'd3',\n",
       "  'd4',\n",
       "  'd5',\n",
       "  'd6',\n",
       "  'd7',\n",
       "  'd7x',\n",
       "  'tf_d0',\n",
       "  'tf_d0_ap',\n",
       "  'tf_d1',\n",
       "  'tf_d1_ap',\n",
       "  'tf_d2',\n",
       "  'tf_d2_ap',\n",
       "  'tf_d3',\n",
       "  'tf_d3_ap',\n",
       "  'tf_d4',\n",
       "  'tf_d4_ap',\n",
       "  'tf_d5',\n",
       "  'tf_d5_ap',\n",
       "  'tf_d6',\n",
       "  'tf_d7',\n",
       "  'tf_d7x',\n",
       "  'tf_lite0',\n",
       "  'tf_lite1',\n",
       "  'tf_lite2',\n",
       "  'tf_lite3'],\n",
       " 'faster_rcnn': ['mobilenet',\n",
       "  'resnet101',\n",
       "  'resnet101_fpn',\n",
       "  'resnet152',\n",
       "  'resnet152_fpn',\n",
       "  'resnet18',\n",
       "  'resnet18_fpn',\n",
       "  'resnet34',\n",
       "  'resnet34_fpn',\n",
       "  'resnet50',\n",
       "  'resnet50_fpn',\n",
       "  'resnext101_32x8d',\n",
       "  'resnext101_32x8d_fpn',\n",
       "  'resnext50_32x4d_fpn',\n",
       "  'wide_resnet101_2_fpn',\n",
       "  'wide_resnet50_2_fpn'],\n",
       " 'retinanet': ['resnet101_fpn',\n",
       "  'resnet152_fpn',\n",
       "  'resnet18_fpn',\n",
       "  'resnet34_fpn',\n",
       "  'resnet50_fpn',\n",
       "  'resnext101_32x8d_fpn',\n",
       "  'resnext50_32x4d_fpn',\n",
       "  'wide_resnet101_2_fpn',\n",
       "  'wide_resnet50_2_fpn'],\n",
       " 'yolov5': ['extra_large',\n",
       "  'extra_large_p6',\n",
       "  'large',\n",
       "  'large_p6',\n",
       "  'medium',\n",
       "  'medium_p6',\n",
       "  'small',\n",
       "  'small_p6']}"
      ]
     },
     "execution_count": 9,
     "metadata": {},
     "output_type": "execute_result"
    }
   ],
   "source": [
    "ObjectDetector.available_backbones()"
   ]
  },
  {
   "cell_type": "code",
   "execution_count": 10,
   "id": "fc4460a5-d6fb-4973-a6a9-945ab9bacf4d",
   "metadata": {},
   "outputs": [
    {
     "data": {
      "text/plain": [
       "['efficientdet', 'faster_rcnn', 'retinanet', 'yolov5']"
      ]
     },
     "execution_count": 10,
     "metadata": {},
     "output_type": "execute_result"
    }
   ],
   "source": [
    "ObjectDetector.available_heads()"
   ]
  },
  {
   "cell_type": "code",
   "execution_count": null,
   "id": "7a0dd1c4-856b-4d85-8ab7-173dcbd6ac82",
   "metadata": {},
   "outputs": [],
   "source": [
    "model = ObjectDetector(head=\"efficientdet\", backbone=\"d0\", num_classes=datamodule.num_classes, image_size=512)\n",
    "\n",
    "trainer = flash.Trainer(max_epochs=20, gpus=[2])\n",
    "trainer.finetune(model, datamodule=datamodule, strategy=(\"freeze_unfreeze\", 10))"
   ]
  },
  {
   "cell_type": "code",
   "execution_count": null,
   "id": "61191a50-a334-406b-a8e6-166cd65c9aff",
   "metadata": {},
   "outputs": [],
   "source": [
    "test_images_paths = [os.path.join(test_images_root, p) for p in os.listdir(test_images_root)]\n",
    "test_datamodule = ObjectDetectionData.from_files(\n",
    "    predict_files=test_images_paths,\n",
    "    transform_kwargs={\"image_size\": 512},\n",
    "    batch_size=8,\n",
    ")\n",
    "predictions = trainer.predict(model, datamodule=test_datamodule)"
   ]
  },
  {
   "cell_type": "code",
   "execution_count": 8,
   "id": "6902b0b5-5c48-4fcb-bbe7-45ded75680f7",
   "metadata": {},
   "outputs": [],
   "source": [
    "label_to_name = {i: n for i, n in enumerate(datamodule.labels)}"
   ]
  },
  {
   "cell_type": "code",
   "execution_count": 21,
   "id": "0cfc0051-b36e-4dee-961a-481f3288d83d",
   "metadata": {},
   "outputs": [],
   "source": [
    "import cv2\n",
    "import matplotlib.pyplot as plt\n",
    "\n",
    "def vis_pred(pred):\n",
    "    img_path = pred[DataKeys.INPUT][DataKeys.INPUT]\n",
    "    if len(pred[DataKeys.PREDS]['bboxes']) == 0:\n",
    "        bbox = {'xmin':0, 'ymin':0, 'width':1, 'height':1}\n",
    "        label = 0\n",
    "    else:\n",
    "        bbox = pred[DataKeys.PREDS]['bboxes'][0]\n",
    "        label = pred[DataKeys.PREDS]['labels'][0]\n",
    "    img = cv2.imread(img_path)\n",
    "    rgb = cv2.cvtColor(img, cv2.COLOR_BGR2RGB)\n",
    "    rgb = cv2.rectangle(rgb, (int(bbox['xmin']), int(bbox['ymin'])), (int(bbox['xmin'] + bbox['width']), int(bbox['ymin'] + bbox['height'])), (0, 0, 255), 2)\n",
    "    rgb = cv2.putText(rgb, label_to_name[label], (10, 50), cv2.FONT_HERSHEY_SIMPLEX, 1, (255, 0, 0), 2, cv2.LINE_AA)\n",
    "    plt.figure()\n",
    "    plt.imshow(rgb)"
   ]
  },
  {
   "cell_type": "code",
   "execution_count": null,
   "id": "595582bc-7b28-428b-b3d7-3bcbebd9be12",
   "metadata": {},
   "outputs": [],
   "source": [
    "for i in range(2):\n",
    "    for j in range(8):\n",
    "        vis_pred(predictions[i][j])"
   ]
  },
  {
   "cell_type": "code",
   "execution_count": 9,
   "id": "191ad8f9-d5a7-45ec-aa31-f34cba391cb4",
   "metadata": {},
   "outputs": [],
   "source": [
    "def generate_submission(preds):\n",
    "    frame = pd.DataFrame(columns=[\"ImageID\", \"bbox\", \"masktype\"])\n",
    "    for batch in preds:\n",
    "        for pred in batch:\n",
    "            img_path = pred[DataKeys.INPUT][DataKeys.INPUT]\n",
    "            if len(pred[DataKeys.PREDS]['bboxes']) == 0:\n",
    "                bbox = {'xmin':0, 'ymin':0, 'width':1, 'height':1}\n",
    "                label = 0\n",
    "            else:\n",
    "                bbox = pred[DataKeys.PREDS]['bboxes'][0]\n",
    "                label = pred[DataKeys.PREDS]['labels'][0]\n",
    "            bbox = f\"[{int(bbox['xmin'])}, {int(bbox['ymin'])}, {int(bbox['xmin'] + bbox['width'])}, {int(bbox['ymin'] + bbox['height'])}]\"\n",
    "            if label == 0:\n",
    "                mask = 'surgical'\n",
    "            else:\n",
    "                mask = label_to_name[label]\n",
    "            frame.loc[len(frame), :] = {\"ImageID\": img_path.split('/')[-1].split('.')[0], \"bbox\": bbox, \"masktype\": mask}\n",
    "    return frame"
   ]
  },
  {
   "cell_type": "code",
   "execution_count": 10,
   "id": "ff512dad-46e1-4845-b8c0-755b93d24b8d",
   "metadata": {},
   "outputs": [],
   "source": [
    "test_df = generate_submission(predictions)"
   ]
  },
  {
   "cell_type": "code",
   "execution_count": 11,
   "id": "bae8922e-b483-4127-a4e8-bdd66e0e96bb",
   "metadata": {},
   "outputs": [],
   "source": [
    "#!pip install aicrowd-cli\n",
    "%load_ext aicrowd.magic"
   ]
  },
  {
   "cell_type": "code",
   "execution_count": null,
   "id": "5557415f-5c50-451f-8671-b6135297fa01",
   "metadata": {},
   "outputs": [],
   "source": [
    "%aicrowd login"
   ]
  },
  {
   "cell_type": "code",
   "execution_count": 13,
   "id": "909c49b0-2700-4e6c-8a8b-b7b4d0514677",
   "metadata": {},
   "outputs": [],
   "source": [
    "!rm -rf assets\n",
    "!mkdir assets\n",
    "test_df.to_csv(os.path.join(\"assets\", \"submission.csv\"), index=False)"
   ]
  },
  {
   "cell_type": "code",
   "execution_count": null,
   "id": "51c2ae8a-af45-4f3b-b27e-6e7a570e9c3b",
   "metadata": {},
   "outputs": [],
   "source": [
    "%aicrowd notebook submit -c mask-prediction -a assets --no-verify"
   ]
  },
  {
   "cell_type": "code",
   "execution_count": null,
   "id": "8e467b35-dedc-4611-ba62-71745135ffcd",
   "metadata": {},
   "outputs": [],
   "source": []
  }
 ],
 "metadata": {
  "kernelspec": {
   "display_name": "Python 3 (ipykernel)",
   "language": "python",
   "name": "python3"
  },
  "language_info": {
   "codemirror_mode": {
    "name": "ipython",
    "version": 3
   },
   "file_extension": ".py",
   "mimetype": "text/x-python",
   "name": "python",
   "nbconvert_exporter": "python",
   "pygments_lexer": "ipython3",
   "version": "3.8.10"
  }
 },
 "nbformat": 4,
 "nbformat_minor": 5
}
