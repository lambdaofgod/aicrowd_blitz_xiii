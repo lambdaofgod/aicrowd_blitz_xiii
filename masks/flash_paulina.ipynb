{
 "cells": [
  {
   "cell_type": "code",
   "execution_count": 1,
   "id": "da461559",
   "metadata": {},
   "outputs": [],
   "source": [
    "%load_ext aicrowd.magic"
   ]
  },
  {
   "cell_type": "code",
   "execution_count": 24,
   "id": "2a08d14c",
   "metadata": {},
   "outputs": [
    {
     "name": "stderr",
     "output_type": "stream",
     "text": [
      "02/21/2022 21:19:58 - INFO - root -   Loading config from /home/paulina.knut/.config/aicrowd-cli/config.toml\n",
      "02/21/2022 21:19:58 - INFO - root -   Config loaded\n",
      "02/21/2022 21:19:58 - INFO - root -   API Key not provided in parameters, prompting\n"
     ]
    },
    {
     "name": "stdout",
     "output_type": "stream",
     "text": [
      "Please login here: \u001b[34m\u001b[1m\u001b[4mhttps://api.aicrowd.com/auth/127ukkbHXHDaz2SeHScoiSO_vQEgXJAzdzmnjv_n0ak\u001b[0m\n"
     ]
    },
    {
     "name": "stderr",
     "output_type": "stream",
     "text": [
      "02/21/2022 21:20:04 - INFO - root -   Status code 202.\n",
      "Response: User didn't authenticate yet\n",
      "02/21/2022 21:20:05 - INFO - root -   Verifying API Key...\n",
      "02/21/2022 21:20:05 - INFO - root -   API Key verified\n"
     ]
    },
    {
     "name": "stdout",
     "output_type": "stream",
     "text": [
      "\u001b[32mAPI Key valid\u001b[0m\n"
     ]
    },
    {
     "name": "stderr",
     "output_type": "stream",
     "text": [
      "02/21/2022 21:20:05 - INFO - root -   Verifying Gitlab access token...\n",
      "02/21/2022 21:20:06 - INFO - root -   Gitlab access token verified\n"
     ]
    },
    {
     "name": "stdout",
     "output_type": "stream",
     "text": [
      "\u001b[32mGitlab access token valid\u001b[0m\n"
     ]
    },
    {
     "name": "stderr",
     "output_type": "stream",
     "text": [
      "02/21/2022 21:20:06 - INFO - root -   Successfully saved config to /home/paulina.knut/.config/aicrowd-cli/config.toml\n",
      "---\n",
      "{'aicrowd_api_key': '861ef2bc7c0a0d71f6e2bb50104d2769', 'gitlab': {'oauth_token': 'ca92d04e02fcd8fbccd6b9bac9d73e75544b750733453f07eac9f4244b05348e', 'userid': 22646, 'username': 'paulina_knut1'}}\n",
      "---\n"
     ]
    },
    {
     "name": "stdout",
     "output_type": "stream",
     "text": [
      "\u001b[32mSaved details successfully!\u001b[0m\n"
     ]
    }
   ],
   "source": [
    "%aicrowd login"
   ]
  },
  {
   "cell_type": "markdown",
   "id": "74467190",
   "metadata": {},
   "source": [
    "## Imports"
   ]
  },
  {
   "cell_type": "code",
   "execution_count": 3,
   "id": "643e277c-0096-4296-aab3-c3b37fa24abd",
   "metadata": {},
   "outputs": [],
   "source": [
    "import os\n",
    "\n",
    "import flash\n",
    "from flash.core.data.io.input import DataKeys\n",
    "from flash.core.data.utils import download_data\n",
    "from flash.image import ObjectDetectionData, ObjectDetector\n",
    "\n",
    "import albumentations as A\n",
    "from albumentations.pytorch.transforms import ToTensorV2\n",
    "# from icevision.core import ClassMap\n",
    "import numpy as np\n",
    "import pandas as pd\n",
    "from pathlib import PosixPath\n",
    "from PIL import Image\n",
    "from torch.utils.data.dataset import Dataset\n",
    "from torch.utils.data import DataLoader"
   ]
  },
  {
   "cell_type": "code",
   "execution_count": 4,
   "id": "b144c00f",
   "metadata": {},
   "outputs": [],
   "source": [
    "# !pip install icevision"
   ]
  },
  {
   "cell_type": "code",
   "execution_count": 5,
   "id": "a2a8a3eb",
   "metadata": {},
   "outputs": [],
   "source": [
    "# !pip install 'lightning-flash[image]'"
   ]
  },
  {
   "cell_type": "markdown",
   "id": "e6026d0a",
   "metadata": {},
   "source": [
    "## Data"
   ]
  },
  {
   "cell_type": "code",
   "execution_count": 20,
   "id": "49cc4ed1",
   "metadata": {},
   "outputs": [
    {
     "data": {
      "application/vnd.jupyter.widget-view+json": {
       "model_id": "09c5f2548e4f4362b1e6de1a673334cd",
       "version_major": 2,
       "version_minor": 0
      },
      "text/plain": [
       "train.csv:   0%|          | 0.00/193k [00:00<?, ?B/s]"
      ]
     },
     "metadata": {},
     "output_type": "display_data"
    },
    {
     "data": {
      "application/vnd.jupyter.widget-view+json": {
       "model_id": "95ea11fd35294bf5b423f1ec66754efc",
       "version_major": 2,
       "version_minor": 0
      },
      "text/plain": [
       "train.zip:   0%|          | 0.00/318M [00:00<?, ?B/s]"
      ]
     },
     "metadata": {},
     "output_type": "display_data"
    },
    {
     "data": {
      "application/vnd.jupyter.widget-view+json": {
       "model_id": "cdd30bb162ea43eaa1b7c46ff9b6de67",
       "version_major": 2,
       "version_minor": 0
      },
      "text/plain": [
       "test.zip:   0%|          | 0.00/115M [00:00<?, ?B/s]"
      ]
     },
     "metadata": {},
     "output_type": "display_data"
    },
    {
     "data": {
      "application/vnd.jupyter.widget-view+json": {
       "model_id": "8b074cbb71b94d238d8209c6e69f3655",
       "version_major": 2,
       "version_minor": 0
      },
      "text/plain": [
       "sample_submission.csv:   0%|          | 0.00/44.0k [00:00<?, ?B/s]"
      ]
     },
     "metadata": {},
     "output_type": "display_data"
    },
    {
     "data": {
      "application/vnd.jupyter.widget-view+json": {
       "model_id": "ee700f3dbcbd4ec8aef09741561efc7d",
       "version_major": 2,
       "version_minor": 0
      },
      "text/plain": [
       "val.csv:   0%|          | 0.00/82.8k [00:00<?, ?B/s]"
      ]
     },
     "metadata": {},
     "output_type": "display_data"
    },
    {
     "data": {
      "application/vnd.jupyter.widget-view+json": {
       "model_id": "8040c5d0da6346119017677b1580e17f",
       "version_major": 2,
       "version_minor": 0
      },
      "text/plain": [
       "val.zip:   0%|          | 0.00/137M [00:00<?, ?B/s]"
      ]
     },
     "metadata": {},
     "output_type": "display_data"
    }
   ],
   "source": [
    "# %aicrowd ds dl -c mask-prediction -o data"
   ]
  },
  {
   "cell_type": "code",
   "execution_count": 6,
   "id": "de0d7a2e-a357-4884-95b5-3694dc0daada",
   "metadata": {},
   "outputs": [],
   "source": [
    "train_images_root = 'data/train'\n",
    "train_csv_path = 'data/train.csv'\n",
    "val_images_root = 'data/val'\n",
    "val_csv_path = 'data/val.csv'\n",
    "test_images_root = 'data/test'"
   ]
  },
  {
   "cell_type": "code",
   "execution_count": 7,
   "id": "aa58a73f-51c8-4ae8-b081-7438999b525c",
   "metadata": {},
   "outputs": [],
   "source": [
    "class MaskDataset:\n",
    "    def __init__(self, images_root, csv_file_path) -> None:\n",
    "        self.images_root = images_root\n",
    "        self.csv_file_path = csv_file_path\n",
    "        \n",
    "        self.image_paths = []\n",
    "        self.bboxes = []\n",
    "        self.labels = []\n",
    "        df = pd.read_csv(self.csv_file_path)\n",
    "        for i, v in df.iterrows():\n",
    "            self.image_paths.append(os.path.join(self.images_root, v['ImageID'] + '.jpg'))\n",
    "            bbox = [int(i) for i in v['bbox'][1:-1].replace(',', '').split(' ')]\n",
    "            bbox = [{'xmin': bbox[0], 'ymin': bbox[1], 'width': bbox[2] - bbox[0], 'height': bbox[3] - bbox[1]}]\n",
    "            self.bboxes.append(bbox)\n",
    "            self.labels.append([v['masktype']])"
   ]
  },
  {
   "cell_type": "code",
   "execution_count": 8,
   "id": "11ef7a3e-6237-46cb-9f97-f78d125d42dc",
   "metadata": {},
   "outputs": [],
   "source": [
    "train_dataset = MaskDataset(train_images_root, train_csv_path)\n",
    "val_dataset = MaskDataset(val_images_root, val_csv_path)"
   ]
  },
  {
   "cell_type": "code",
   "execution_count": 9,
   "id": "cf9fb204-3c85-478a-a4a1-d3578d17821f",
   "metadata": {},
   "outputs": [
    {
     "name": "stderr",
     "output_type": "stream",
     "text": [
      "/mnt/ml-team/homes/paulina.knut/aicrowd/venv_pascal02/lib/python3.8/site-packages/pytorch_lightning/core/datamodule.py:73: LightningDeprecationWarning: DataModule property `train_transforms` was deprecated in v1.5 and will be removed in v1.7.\n",
      "  rank_zero_deprecation(\n"
     ]
    }
   ],
   "source": [
    "datamodule = ObjectDetectionData.from_files(\n",
    "    train_files=train_dataset.image_paths,\n",
    "    train_targets=train_dataset.labels,\n",
    "    train_bboxes=train_dataset.bboxes,\n",
    "    val_files=val_dataset.image_paths,\n",
    "    val_targets=val_dataset.labels,\n",
    "    val_bboxes=val_dataset.bboxes,\n",
    "    transform_kwargs=dict(image_size=(512, 512)),\n",
    "    batch_size=8,\n",
    ")"
   ]
  },
  {
   "cell_type": "markdown",
   "id": "afd870ee",
   "metadata": {},
   "source": [
    "## Model"
   ]
  },
  {
   "cell_type": "code",
   "execution_count": 13,
   "id": "fc4460a5-d6fb-4973-a6a9-945ab9bacf4d",
   "metadata": {},
   "outputs": [
    {
     "data": {
      "text/plain": [
       "['efficientdet', 'faster_rcnn', 'retinanet', 'yolov5']"
      ]
     },
     "execution_count": 13,
     "metadata": {},
     "output_type": "execute_result"
    }
   ],
   "source": [
    "ObjectDetector.available_heads()"
   ]
  },
  {
   "cell_type": "code",
   "execution_count": 32,
   "id": "b6a9ffe1",
   "metadata": {},
   "outputs": [
    {
     "data": {
      "text/plain": [
       "['extra_large',\n",
       " 'extra_large_p6',\n",
       " 'large',\n",
       " 'large_p6',\n",
       " 'medium',\n",
       " 'medium_p6',\n",
       " 'small',\n",
       " 'small_p6']"
      ]
     },
     "execution_count": 32,
     "metadata": {},
     "output_type": "execute_result"
    }
   ],
   "source": [
    "head = \"yolov5\"\n",
    "ObjectDetector.available_backbones()[head]"
   ]
  },
  {
   "cell_type": "code",
   "execution_count": 40,
   "id": "7a0dd1c4-856b-4d85-8ab7-173dcbd6ac82",
   "metadata": {},
   "outputs": [
    {
     "name": "stderr",
     "output_type": "stream",
     "text": [
      "Using 'yolov5' provided by airctic/IceVision (https://github.com/airctic/icevision) and Ultralytics/YOLOV5 (https://github.com/ultralytics/yolov5).\n"
     ]
    },
    {
     "name": "stdout",
     "output_type": "stream",
     "text": [
      "Downloading https://github.com/ultralytics/yolov5/releases/download/v6.0/yolov5m.pt to /home/paulina.knut/.icevision/yolo/yolov5m.pt...\n"
     ]
    },
    {
     "data": {
      "application/vnd.jupyter.widget-view+json": {
       "model_id": "2d37af42bc55499097deb4e10ad260db",
       "version_major": 2,
       "version_minor": 0
      },
      "text/plain": [
       "  0%|          | 0.00/40.7M [00:00<?, ?B/s]"
      ]
     },
     "metadata": {},
     "output_type": "display_data"
    },
    {
     "name": "stderr",
     "output_type": "stream",
     "text": [
      "02/22/2022 07:52:26 - INFO - yolov5.models.yolo -   Overriding model.yaml nc=80 with nc=4\n",
      "02/22/2022 07:52:26 - INFO - yolov5.models.yolo -   \n",
      "                 from  n    params  module                                  arguments                     \n",
      "02/22/2022 07:52:26 - INFO - yolov5.models.yolo -     0                -1  1      5280  yolov5.models.common.Conv               [3, 48, 6, 2, 2]              \n",
      "02/22/2022 07:52:26 - INFO - yolov5.models.yolo -     1                -1  1     41664  yolov5.models.common.Conv               [48, 96, 3, 2]                \n",
      "02/22/2022 07:52:26 - INFO - yolov5.models.yolo -     2                -1  2     65280  yolov5.models.common.C3                 [96, 96, 2]                   \n",
      "02/22/2022 07:52:26 - INFO - yolov5.models.yolo -     3                -1  1    166272  yolov5.models.common.Conv               [96, 192, 3, 2]               \n",
      "02/22/2022 07:52:26 - INFO - yolov5.models.yolo -     4                -1  4    444672  yolov5.models.common.C3                 [192, 192, 4]                 \n",
      "02/22/2022 07:52:26 - INFO - yolov5.models.yolo -     5                -1  1    664320  yolov5.models.common.Conv               [192, 384, 3, 2]              \n"
     ]
    },
    {
     "name": "stdout",
     "output_type": "stream",
     "text": [
      "\n"
     ]
    },
    {
     "name": "stderr",
     "output_type": "stream",
     "text": [
      "02/22/2022 07:52:26 - INFO - yolov5.models.yolo -     6                -1  6   2512896  yolov5.models.common.C3                 [384, 384, 6]                 \n",
      "02/22/2022 07:52:26 - INFO - yolov5.models.yolo -     7                -1  1   2655744  yolov5.models.common.Conv               [384, 768, 3, 2]              \n",
      "02/22/2022 07:52:26 - INFO - yolov5.models.yolo -     8                -1  2   4134912  yolov5.models.common.C3                 [768, 768, 2]                 \n",
      "02/22/2022 07:52:26 - INFO - yolov5.models.yolo -     9                -1  1   1476864  yolov5.models.common.SPPF               [768, 768, 5]                 \n",
      "02/22/2022 07:52:26 - INFO - yolov5.models.yolo -    10                -1  1    295680  yolov5.models.common.Conv               [768, 384, 1, 1]              \n",
      "02/22/2022 07:52:26 - INFO - yolov5.models.yolo -    11                -1  1         0  torch.nn.modules.upsampling.Upsample    [None, 2, 'nearest']          \n",
      "02/22/2022 07:52:26 - INFO - yolov5.models.yolo -    12           [-1, 6]  1         0  yolov5.models.common.Concat             [1]                           \n",
      "02/22/2022 07:52:26 - INFO - yolov5.models.yolo -    13                -1  2   1182720  yolov5.models.common.C3                 [768, 384, 2, False]          \n",
      "02/22/2022 07:52:26 - INFO - yolov5.models.yolo -    14                -1  1     74112  yolov5.models.common.Conv               [384, 192, 1, 1]              \n",
      "02/22/2022 07:52:26 - INFO - yolov5.models.yolo -    15                -1  1         0  torch.nn.modules.upsampling.Upsample    [None, 2, 'nearest']          \n",
      "02/22/2022 07:52:26 - INFO - yolov5.models.yolo -    16           [-1, 4]  1         0  yolov5.models.common.Concat             [1]                           \n",
      "02/22/2022 07:52:26 - INFO - yolov5.models.yolo -    17                -1  2    296448  yolov5.models.common.C3                 [384, 192, 2, False]          \n",
      "02/22/2022 07:52:26 - INFO - yolov5.models.yolo -    18                -1  1    332160  yolov5.models.common.Conv               [192, 192, 3, 2]              \n",
      "02/22/2022 07:52:26 - INFO - yolov5.models.yolo -    19          [-1, 14]  1         0  yolov5.models.common.Concat             [1]                           \n",
      "02/22/2022 07:52:26 - INFO - yolov5.models.yolo -    20                -1  2   1035264  yolov5.models.common.C3                 [384, 384, 2, False]          \n",
      "02/22/2022 07:52:26 - INFO - yolov5.models.yolo -    21                -1  1   1327872  yolov5.models.common.Conv               [384, 384, 3, 2]              \n",
      "02/22/2022 07:52:26 - INFO - yolov5.models.yolo -    22          [-1, 10]  1         0  yolov5.models.common.Concat             [1]                           \n",
      "02/22/2022 07:52:26 - INFO - yolov5.models.yolo -    23                -1  2   4134912  yolov5.models.common.C3                 [768, 768, 2, False]          \n",
      "02/22/2022 07:52:26 - INFO - yolov5.models.yolo -    24      [17, 20, 23]  1     36369  yolov5.models.yolo.Detect               [4, [[10, 13, 16, 30, 33, 23], [30, 61, 62, 45, 59, 119], [116, 90, 156, 198, 373, 326]], [192, 384, 768]]\n",
      "02/22/2022 07:52:26 - INFO - yolov5.utils.torch_utils -   Model Summary: 369 layers, 20883441 parameters, 20883441 gradients\n",
      "02/22/2022 07:52:26 - INFO - yolov5.models.yolo -   \n",
      "GPU available: True, used: True\n",
      "TPU available: False, using: 0 TPU cores\n",
      "IPU available: False, using: 0 IPUs\n",
      "/mnt/ml-team/homes/paulina.knut/aicrowd/venv_pascal02/lib/python3.8/site-packages/pytorch_lightning/core/datamodule.py:469: LightningDeprecationWarning: DataModule.setup has already been called, so it will not be called again. In v1.6 this behavior will change to always call DataModule.setup.\n",
      "  rank_zero_deprecation(\n",
      "LOCAL_RANK: 0 - CUDA_VISIBLE_DEVICES: [0,1,2,3]\n",
      "\n",
      "  | Name          | Type                            | Params\n",
      "------------------------------------------------------------------\n",
      "0 | train_metrics | ModuleDict                      | 0     \n",
      "1 | val_metrics   | ModuleDict                      | 0     \n",
      "2 | test_metrics  | ModuleDict                      | 0     \n",
      "3 | adapter       | IceVisionObjectDetectionAdapter | 20.9 M\n",
      "------------------------------------------------------------------\n",
      "36.4 K    Trainable params\n",
      "20.8 M    Non-trainable params\n",
      "20.9 M    Total params\n",
      "83.534    Total estimated model params size (MB)\n"
     ]
    },
    {
     "data": {
      "application/vnd.jupyter.widget-view+json": {
       "model_id": "",
       "version_major": 2,
       "version_minor": 0
      },
      "text/plain": [
       "Validation sanity check: 0it [00:00, ?it/s]"
      ]
     },
     "metadata": {},
     "output_type": "display_data"
    },
    {
     "name": "stderr",
     "output_type": "stream",
     "text": [
      "/mnt/ml-team/homes/paulina.knut/aicrowd/venv_pascal02/lib/python3.8/site-packages/pytorch_lightning/trainer/data_loading.py:132: UserWarning: The dataloader, val_dataloader 0, does not have many workers which may be a bottleneck. Consider increasing the value of the `num_workers` argument` (try 48 which is the number of cpus on this machine) in the `DataLoader` init to improve performance.\n",
      "  rank_zero_warn(\n",
      "/mnt/ml-team/homes/paulina.knut/aicrowd/venv_pascal02/lib/python3.8/site-packages/pytorch_lightning/trainer/data_loading.py:132: UserWarning: The dataloader, train_dataloader, does not have many workers which may be a bottleneck. Consider increasing the value of the `num_workers` argument` (try 48 which is the number of cpus on this machine) in the `DataLoader` init to improve performance.\n",
      "  rank_zero_warn(\n"
     ]
    },
    {
     "data": {
      "application/vnd.jupyter.widget-view+json": {
       "model_id": "89410e4a93b847919a73a479ff4f9b30",
       "version_major": 2,
       "version_minor": 0
      },
      "text/plain": [
       "Training: 0it [00:00, ?it/s]"
      ]
     },
     "metadata": {},
     "output_type": "display_data"
    },
    {
     "data": {
      "application/vnd.jupyter.widget-view+json": {
       "model_id": "",
       "version_major": 2,
       "version_minor": 0
      },
      "text/plain": [
       "Validating: 0it [00:00, ?it/s]"
      ]
     },
     "metadata": {},
     "output_type": "display_data"
    },
    {
     "data": {
      "application/vnd.jupyter.widget-view+json": {
       "model_id": "",
       "version_major": 2,
       "version_minor": 0
      },
      "text/plain": [
       "Validating: 0it [00:00, ?it/s]"
      ]
     },
     "metadata": {},
     "output_type": "display_data"
    },
    {
     "data": {
      "application/vnd.jupyter.widget-view+json": {
       "model_id": "",
       "version_major": 2,
       "version_minor": 0
      },
      "text/plain": [
       "Validating: 0it [00:00, ?it/s]"
      ]
     },
     "metadata": {},
     "output_type": "display_data"
    },
    {
     "data": {
      "application/vnd.jupyter.widget-view+json": {
       "model_id": "",
       "version_major": 2,
       "version_minor": 0
      },
      "text/plain": [
       "Validating: 0it [00:00, ?it/s]"
      ]
     },
     "metadata": {},
     "output_type": "display_data"
    },
    {
     "data": {
      "application/vnd.jupyter.widget-view+json": {
       "model_id": "",
       "version_major": 2,
       "version_minor": 0
      },
      "text/plain": [
       "Validating: 0it [00:00, ?it/s]"
      ]
     },
     "metadata": {},
     "output_type": "display_data"
    },
    {
     "data": {
      "application/vnd.jupyter.widget-view+json": {
       "model_id": "",
       "version_major": 2,
       "version_minor": 0
      },
      "text/plain": [
       "Validating: 0it [00:00, ?it/s]"
      ]
     },
     "metadata": {},
     "output_type": "display_data"
    },
    {
     "data": {
      "application/vnd.jupyter.widget-view+json": {
       "model_id": "",
       "version_major": 2,
       "version_minor": 0
      },
      "text/plain": [
       "Validating: 0it [00:00, ?it/s]"
      ]
     },
     "metadata": {},
     "output_type": "display_data"
    },
    {
     "data": {
      "application/vnd.jupyter.widget-view+json": {
       "model_id": "",
       "version_major": 2,
       "version_minor": 0
      },
      "text/plain": [
       "Validating: 0it [00:00, ?it/s]"
      ]
     },
     "metadata": {},
     "output_type": "display_data"
    },
    {
     "data": {
      "application/vnd.jupyter.widget-view+json": {
       "model_id": "",
       "version_major": 2,
       "version_minor": 0
      },
      "text/plain": [
       "Validating: 0it [00:00, ?it/s]"
      ]
     },
     "metadata": {},
     "output_type": "display_data"
    },
    {
     "data": {
      "application/vnd.jupyter.widget-view+json": {
       "model_id": "",
       "version_major": 2,
       "version_minor": 0
      },
      "text/plain": [
       "Validating: 0it [00:00, ?it/s]"
      ]
     },
     "metadata": {},
     "output_type": "display_data"
    },
    {
     "data": {
      "application/vnd.jupyter.widget-view+json": {
       "model_id": "",
       "version_major": 2,
       "version_minor": 0
      },
      "text/plain": [
       "Validating: 0it [00:00, ?it/s]"
      ]
     },
     "metadata": {},
     "output_type": "display_data"
    },
    {
     "data": {
      "application/vnd.jupyter.widget-view+json": {
       "model_id": "",
       "version_major": 2,
       "version_minor": 0
      },
      "text/plain": [
       "Validating: 0it [00:00, ?it/s]"
      ]
     },
     "metadata": {},
     "output_type": "display_data"
    },
    {
     "data": {
      "application/vnd.jupyter.widget-view+json": {
       "model_id": "",
       "version_major": 2,
       "version_minor": 0
      },
      "text/plain": [
       "Validating: 0it [00:00, ?it/s]"
      ]
     },
     "metadata": {},
     "output_type": "display_data"
    },
    {
     "data": {
      "application/vnd.jupyter.widget-view+json": {
       "model_id": "",
       "version_major": 2,
       "version_minor": 0
      },
      "text/plain": [
       "Validating: 0it [00:00, ?it/s]"
      ]
     },
     "metadata": {},
     "output_type": "display_data"
    },
    {
     "data": {
      "application/vnd.jupyter.widget-view+json": {
       "model_id": "",
       "version_major": 2,
       "version_minor": 0
      },
      "text/plain": [
       "Validating: 0it [00:00, ?it/s]"
      ]
     },
     "metadata": {},
     "output_type": "display_data"
    },
    {
     "data": {
      "application/vnd.jupyter.widget-view+json": {
       "model_id": "",
       "version_major": 2,
       "version_minor": 0
      },
      "text/plain": [
       "Validating: 0it [00:00, ?it/s]"
      ]
     },
     "metadata": {},
     "output_type": "display_data"
    },
    {
     "data": {
      "application/vnd.jupyter.widget-view+json": {
       "model_id": "",
       "version_major": 2,
       "version_minor": 0
      },
      "text/plain": [
       "Validating: 0it [00:00, ?it/s]"
      ]
     },
     "metadata": {},
     "output_type": "display_data"
    },
    {
     "data": {
      "application/vnd.jupyter.widget-view+json": {
       "model_id": "",
       "version_major": 2,
       "version_minor": 0
      },
      "text/plain": [
       "Validating: 0it [00:00, ?it/s]"
      ]
     },
     "metadata": {},
     "output_type": "display_data"
    },
    {
     "data": {
      "application/vnd.jupyter.widget-view+json": {
       "model_id": "",
       "version_major": 2,
       "version_minor": 0
      },
      "text/plain": [
       "Validating: 0it [00:00, ?it/s]"
      ]
     },
     "metadata": {},
     "output_type": "display_data"
    },
    {
     "data": {
      "application/vnd.jupyter.widget-view+json": {
       "model_id": "",
       "version_major": 2,
       "version_minor": 0
      },
      "text/plain": [
       "Validating: 0it [00:00, ?it/s]"
      ]
     },
     "metadata": {},
     "output_type": "display_data"
    },
    {
     "name": "stderr",
     "output_type": "stream",
     "text": [
      "/mnt/ml-team/homes/paulina.knut/aicrowd/venv_pascal02/lib/python3.8/site-packages/pytorch_lightning/core/datamodule.py:469: LightningDeprecationWarning: DataModule.teardown has already been called, so it will not be called again. In v1.6 this behavior will change to always call DataModule.teardown.\n",
      "  rank_zero_deprecation(\n"
     ]
    }
   ],
   "source": [
    "head = \"yolov5\"  # \"yolov5\"\n",
    "backbone = \"medium\"  # \"small\"\n",
    "model = ObjectDetector(head=head, backbone=backbone, num_classes=datamodule.num_classes, image_size=512)\n",
    "\n",
    "trainer = flash.Trainer(max_epochs=20, gpus=[2])\n",
    "trainer.finetune(model, datamodule=datamodule, strategy=(\"freeze_unfreeze\", 10))\n",
    "trainer.save_checkpoint(f\"ObjectDetector_{head}_{backbone}.pt\")"
   ]
  },
  {
   "cell_type": "code",
   "execution_count": 41,
   "id": "61191a50-a334-406b-a8e6-166cd65c9aff",
   "metadata": {},
   "outputs": [
    {
     "name": "stderr",
     "output_type": "stream",
     "text": [
      "/mnt/ml-team/homes/paulina.knut/aicrowd/venv_pascal02/lib/python3.8/site-packages/pytorch_lightning/core/datamodule.py:73: LightningDeprecationWarning: DataModule property `train_transforms` was deprecated in v1.5 and will be removed in v1.7.\n",
      "  rank_zero_deprecation(\n",
      "LOCAL_RANK: 0 - CUDA_VISIBLE_DEVICES: [0,1,2,3]\n",
      "/mnt/ml-team/homes/paulina.knut/aicrowd/venv_pascal02/lib/python3.8/site-packages/pytorch_lightning/trainer/data_loading.py:132: UserWarning: The dataloader, predict_dataloader 0, does not have many workers which may be a bottleneck. Consider increasing the value of the `num_workers` argument` (try 48 which is the number of cpus on this machine) in the `DataLoader` init to improve performance.\n",
      "  rank_zero_warn(\n"
     ]
    },
    {
     "data": {
      "application/vnd.jupyter.widget-view+json": {
       "model_id": "6aed1837918d49a8be7a5188d7735988",
       "version_major": 2,
       "version_minor": 0
      },
      "text/plain": [
       "Predicting: 700it [00:00, ?it/s]"
      ]
     },
     "metadata": {},
     "output_type": "display_data"
    }
   ],
   "source": [
    "test_images_paths = [os.path.join(test_images_root, p) for p in os.listdir(test_images_root)]\n",
    "test_datamodule = ObjectDetectionData.from_files(\n",
    "    predict_files=test_images_paths,\n",
    "    transform_kwargs={\"image_size\": 512},\n",
    "    batch_size=8,\n",
    ")\n",
    "predictions = trainer.predict(model, datamodule=test_datamodule)"
   ]
  },
  {
   "cell_type": "code",
   "execution_count": 42,
   "id": "6902b0b5-5c48-4fcb-bbe7-45ded75680f7",
   "metadata": {},
   "outputs": [],
   "source": [
    "label_to_name = {i: n for i, n in enumerate(datamodule.labels)}"
   ]
  },
  {
   "cell_type": "code",
   "execution_count": 43,
   "id": "191ad8f9-d5a7-45ec-aa31-f34cba391cb4",
   "metadata": {},
   "outputs": [],
   "source": [
    "def generate_submission(preds):\n",
    "    frame = pd.DataFrame(columns=[\"ImageID\", \"bbox\", \"masktype\"])\n",
    "    for batch in preds:\n",
    "        for pred in batch:\n",
    "            img_path = pred[DataKeys.INPUT][DataKeys.INPUT]\n",
    "            if len(pred[DataKeys.PREDS]['bboxes']) == 0:\n",
    "                bbox = {'xmin':0, 'ymin':0, 'width':1, 'height':1}\n",
    "                label = 0\n",
    "            else:\n",
    "                bbox = pred[DataKeys.PREDS]['bboxes'][0]\n",
    "                label = pred[DataKeys.PREDS]['labels'][0]\n",
    "            bbox = f\"[{int(bbox['xmin'])}, {int(bbox['ymin'])}, {int(bbox['xmin'] + bbox['width'])}, {int(bbox['ymin'] + bbox['height'])}]\"\n",
    "            if label == 0:\n",
    "                mask = 'surgical'\n",
    "            else:\n",
    "                mask = label_to_name[label]\n",
    "            frame.loc[len(frame), :] = {\"ImageID\": img_path.split('/')[-1].split('.')[0], \"bbox\": bbox, \"masktype\": mask}\n",
    "    return frame"
   ]
  },
  {
   "cell_type": "code",
   "execution_count": 44,
   "id": "ff512dad-46e1-4845-b8c0-755b93d24b8d",
   "metadata": {},
   "outputs": [],
   "source": [
    "test_df = generate_submission(predictions)"
   ]
  },
  {
   "cell_type": "markdown",
   "id": "b00038e5",
   "metadata": {},
   "source": [
    "## Submission"
   ]
  },
  {
   "cell_type": "code",
   "execution_count": 45,
   "id": "909c49b0-2700-4e6c-8a8b-b7b4d0514677",
   "metadata": {},
   "outputs": [],
   "source": [
    "!rm -rf assets\n",
    "!mkdir assets\n",
    "test_df.to_csv(os.path.join(\"assets\", \"submission.csv\"), index=False)"
   ]
  },
  {
   "cell_type": "code",
   "execution_count": 46,
   "id": "51c2ae8a-af45-4f3b-b27e-6e7a570e9c3b",
   "metadata": {},
   "outputs": [
    {
     "name": "stderr",
     "output_type": "stream",
     "text": [
      "02/22/2022 09:15:53 - INFO - root -   Loading config from /home/paulina.knut/.config/aicrowd-cli/config.toml\n",
      "02/22/2022 09:15:53 - INFO - root -   Config loaded\n"
     ]
    },
    {
     "data": {
      "application/javascript": [
       "IPython.notebook.save_checkpoint();"
      ],
      "text/plain": [
       "<IPython.core.display.Javascript object>"
      ]
     },
     "metadata": {},
     "output_type": "display_data"
    },
    {
     "name": "stdout",
     "output_type": "stream",
     "text": [
      "Using notebook: flash.ipynb for submission...\n",
      "Removing existing files from submission directory...\n",
      "Scrubbing API keys from the notebook...\n",
      "Collecting notebook...\n"
     ]
    },
    {
     "name": "stderr",
     "output_type": "stream",
     "text": [
      "02/22/2022 09:15:57 - INFO - root -   [metachallenge?] Got redirected to /challenges/ai-blitz-xiii/problems/mask-prediction/submissions\n"
     ]
    },
    {
     "data": {
      "application/vnd.jupyter.widget-view+json": {
       "model_id": "f51e4ee71fb8425f92ff7c3103031d4c",
       "version_major": 2,
       "version_minor": 0
      },
      "text/plain": [
       "Output()"
      ]
     },
     "metadata": {},
     "output_type": "display_data"
    },
    {
     "data": {
      "text/html": [
       "<pre style=\"white-space:pre;overflow-x:auto;line-height:normal;font-family:Menlo,'DejaVu Sans Mono',consolas,'Courier New',monospace\"></pre>\n"
      ],
      "text/plain": []
     },
     "metadata": {},
     "output_type": "display_data"
    },
    {
     "data": {
      "text/html": [
       "<pre style=\"white-space:pre;overflow-x:auto;line-height:normal;font-family:Menlo,'DejaVu Sans Mono',consolas,'Courier New',monospace\">\n",
       "</pre>\n"
      ],
      "text/plain": [
       "\n"
      ]
     },
     "metadata": {},
     "output_type": "display_data"
    },
    {
     "data": {
      "text/html": [
       "<pre style=\"white-space:pre;overflow-x:auto;line-height:normal;font-family:Menlo,'DejaVu Sans Mono',consolas,'Courier New',monospace\">                                                  ╭─────────────────────────╮                                                   \n",
       "                                                  │ <span style=\"font-weight: bold\">Successfully submitted!</span> │                                                   \n",
       "                                                  ╰─────────────────────────╯                                                   \n",
       "</pre>\n"
      ],
      "text/plain": [
       "                                                  ╭─────────────────────────╮                                                   \n",
       "                                                  │ \u001b[1mSuccessfully submitted!\u001b[0m │                                                   \n",
       "                                                  ╰─────────────────────────╯                                                   \n"
      ]
     },
     "metadata": {},
     "output_type": "display_data"
    },
    {
     "data": {
      "text/html": [
       "<pre style=\"white-space:pre;overflow-x:auto;line-height:normal;font-family:Menlo,'DejaVu Sans Mono',consolas,'Courier New',monospace\"><span style=\"font-style: italic\">                                                        Important links                                                         </span>\n",
       "┌──────────────────┬───────────────────────────────────────────────────────────────────────────────────────────────────────────┐\n",
       "│  This submission │ https://www.aicrowd.com/challenges/ai-blitz-xiii/problems/mask-prediction/submissions/175047              │\n",
       "│                  │                                                                                                           │\n",
       "│  All submissions │ https://www.aicrowd.com/challenges/ai-blitz-xiii/problems/mask-prediction/submissions?my_submissions=true │\n",
       "│                  │                                                                                                           │\n",
       "│      Leaderboard │ https://www.aicrowd.com/challenges/ai-blitz-xiii/problems/mask-prediction/leaderboards                    │\n",
       "│                  │                                                                                                           │\n",
       "│ Discussion forum │ https://discourse.aicrowd.com/c/ai-blitz-xiii                                                             │\n",
       "│                  │                                                                                                           │\n",
       "│   Challenge page │ https://www.aicrowd.com/challenges/ai-blitz-xiii/problems/mask-prediction                                 │\n",
       "└──────────────────┴───────────────────────────────────────────────────────────────────────────────────────────────────────────┘\n",
       "</pre>\n"
      ],
      "text/plain": [
       "\u001b[3m                                                        Important links                                                         \u001b[0m\n",
       "┌──────────────────┬───────────────────────────────────────────────────────────────────────────────────────────────────────────┐\n",
       "│  This submission │ https://www.aicrowd.com/challenges/ai-blitz-xiii/problems/mask-prediction/submissions/175047              │\n",
       "│                  │                                                                                                           │\n",
       "│  All submissions │ https://www.aicrowd.com/challenges/ai-blitz-xiii/problems/mask-prediction/submissions?my_submissions=true │\n",
       "│                  │                                                                                                           │\n",
       "│      Leaderboard │ https://www.aicrowd.com/challenges/ai-blitz-xiii/problems/mask-prediction/leaderboards                    │\n",
       "│                  │                                                                                                           │\n",
       "│ Discussion forum │ https://discourse.aicrowd.com/c/ai-blitz-xiii                                                             │\n",
       "│                  │                                                                                                           │\n",
       "│   Challenge page │ https://www.aicrowd.com/challenges/ai-blitz-xiii/problems/mask-prediction                                 │\n",
       "└──────────────────┴───────────────────────────────────────────────────────────────────────────────────────────────────────────┘\n"
      ]
     },
     "metadata": {},
     "output_type": "display_data"
    }
   ],
   "source": [
    "%aicrowd notebook submit -c mask-prediction -a assets --no-verify"
   ]
  },
  {
   "cell_type": "code",
   "execution_count": null,
   "id": "8e467b35-dedc-4611-ba62-71745135ffcd",
   "metadata": {},
   "outputs": [],
   "source": []
  }
 ],
 "metadata": {
  "kernelspec": {
   "display_name": "Python 3 (ipykernel)",
   "language": "python",
   "name": "python3"
  },
  "language_info": {
   "codemirror_mode": {
    "name": "ipython",
    "version": 3
   },
   "file_extension": ".py",
   "mimetype": "text/x-python",
   "name": "python",
   "nbconvert_exporter": "python",
   "pygments_lexer": "ipython3",
   "version": "3.8.10"
  }
 },
 "nbformat": 4,
 "nbformat_minor": 5
}
